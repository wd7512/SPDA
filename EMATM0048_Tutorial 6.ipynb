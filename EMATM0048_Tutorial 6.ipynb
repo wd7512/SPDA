{
 "cells": [
  {
   "cell_type": "markdown",
   "metadata": {},
   "source": [
    "\n",
    "# EMATM0048: Software Development Programming and Algorithms (SDPA)\n",
    "# `Tutorial 6 - Complexity analysis`\n",
    "\n",
    "This tutorial presents practical exercises for materials covered in Teaching Sessions 6A and 6B in SDPA. The tutorial is in three parts; part 1: algorithm complexity analysis, part 2: Searching algorithms, and part 3: Sorting algorithms\n",
    "\n",
    "## Part 1:  Algorithm Complexity analysis\n",
    "\n",
    "Complexity analysis is a way to answer an interesting question which often arises. When two programs solve the same problem but look different, is one program better than the other?\n",
    "## 1.1 Timing approach: \n",
    "Consider the two different variations of the following function. The function solves a familiar problem, computing the sum of the first $n$ integers. The algorithm uses the idea of an accumulator variable that is initialized to 0. The solution then iterates through the $n$ integers, adding each to the accumulator.\n",
    "\n",
    "### Version 1: "
   ]
  },
  {
   "cell_type": "code",
   "execution_count": 1,
   "metadata": {},
   "outputs": [],
   "source": [
    "import time\n",
    "def sumOfN1(n):\n",
    "    start = time.time()\n",
    "    theSum = 0\n",
    "    for i in range(1,n+1):\n",
    "        theSum = theSum + i\n",
    "    end = time.time()\n",
    "    return theSum,end-start"
   ]
  },
  {
   "cell_type": "markdown",
   "metadata": {},
   "source": [
    "This implemnation shows the sumOfN1 function with the timing calls embedded before and after the summation. The function returns a tuple consisting of the result and the amount of time (in seconds) required for the calculation. If we perform the sum of three big integers, we get the following:"
   ]
  },
  {
   "cell_type": "code",
   "execution_count": 2,
   "metadata": {},
   "outputs": [
    {
     "name": "stdout",
     "output_type": "stream",
     "text": [
      "Sum is 50005000 required  0.0009615 seconds\n",
      "Sum is 500000500000 required  0.0451758 seconds\n",
      "Sum is 50000005000000 required  0.3937895 seconds\n"
     ]
    }
   ],
   "source": [
    "print(\"Sum is %d required %10.7f seconds\"%sumOfN1(10000))\n",
    "print(\"Sum is %d required %10.7f seconds\"%sumOfN1(1000000))\n",
    "print(\"Sum is %d required %10.7f seconds\"%sumOfN1(10000000))"
   ]
  },
  {
   "cell_type": "markdown",
   "metadata": {},
   "source": [
    "### Version 2: "
   ]
  },
  {
   "cell_type": "markdown",
   "metadata": {},
   "source": [
    "Let's try another version to solve the same problem. "
   ]
  },
  {
   "cell_type": "code",
   "execution_count": 3,
   "metadata": {},
   "outputs": [
    {
     "name": "stdout",
     "output_type": "stream",
     "text": [
      "(55.0, 0.0)\n"
     ]
    }
   ],
   "source": [
    "def sumOfN2(n):\n",
    "    start = time.time()\n",
    "    theSum= (n*(n+1))/2\n",
    "    end = time.time()\n",
    "    return theSum,end-start\n",
    "\n",
    "print(sumOfN2(10))"
   ]
  },
  {
   "cell_type": "code",
   "execution_count": 4,
   "metadata": {},
   "outputs": [
    {
     "name": "stdout",
     "output_type": "stream",
     "text": [
      "Sum is 50005000 required  0.0000000 seconds\n",
      "Sum is 500000500000 required  0.0000000 seconds\n",
      "Sum is 50000005000000 required  0.0000000 seconds\n"
     ]
    }
   ],
   "source": [
    "print(\"Sum is %d required %10.7f seconds\"%sumOfN2(10000))\n",
    "print(\"Sum is %d required %10.7f seconds\"%sumOfN2(1000000))\n",
    "print(\"Sum is %d required %10.7f seconds\"%sumOfN2(10000000))"
   ]
  },
  {
   "cell_type": "markdown",
   "metadata": {},
   "source": [
    "There are two important things to notice about this output. First, the times recorded above are shorter than any of the previous examples. Second, they are very consistent no matter what the value of n. It appears that sumOfN2 is hardly impacted by the number of integers being added. A better way to measure the complexity is with big O notation"
   ]
  },
  {
   "cell_type": "markdown",
   "metadata": {},
   "source": [
    "## 1.2 Big O Approach"
   ]
  },
  {
   "cell_type": "markdown",
   "metadata": {},
   "source": [
    "When trying to characterize an algorithm’s efficiency in terms of execution time, independent of any particular program or computer, it is important to quantify the number of operations or steps that the algorithm will require. If each of these steps is considered to be a basic unit of computation, then the execution time for an algorithm can be expressed as the number of steps required to solve the problem.\n",
    "\n",
    "Comparing the summation algorithms shown earlier, the function sumOfN1 the number of assignment statements is 1 (𝑡ℎ𝑒𝑆𝑢𝑚=0) plus the value of n (the number of times we perform 𝑡ℎ𝑒𝑆𝑢𝑚=𝑡ℎ𝑒𝑆𝑢𝑚+𝑖). We can then say this function is of O(n). On the other hand, the other implementation of SumOfN2 has an order of O(1) as the running time is '**almost**' independent on the input size. "
   ]
  },
  {
   "cell_type": "markdown",
   "metadata": {},
   "source": [
    "Let's try another example, suppose that we have the code shown below. Although this program does not really do anything, it is instructive to see how we can take actual code and analyze performance."
   ]
  },
  {
   "cell_type": "code",
   "execution_count": 5,
   "metadata": {},
   "outputs": [],
   "source": [
    "n= 10\n",
    "\n",
    "a=5\n",
    "b=6\n",
    "c=10\n",
    "for i in range(n):\n",
    "    for j in range(n):\n",
    "        x = i * i\n",
    "        y = j * j\n",
    "        z = i * j\n",
    "for k in range(n):\n",
    "    w = a*k + 45\n",
    "    v = b*b\n",
    "d = 33"
   ]
  },
  {
   "cell_type": "markdown",
   "metadata": {},
   "source": [
    "The number of assignment operations is the sum of four terms. \n",
    "- The first term is the constant 3, representing the three assignment statements at the start of the fragment. \n",
    "- The second term is $3𝑛^2$, since there are three statements that are performed $𝑛^2$ times due to the nested iteration. \n",
    "- The third term is 2𝑛, two statements iterated n times. \n",
    "- Finally, the fourth term is the constant 1, representing the final assignment statement. \n",
    "\n",
    "This gives us total number of operations of $3+3𝑛^2+2𝑛+1$. By looking at the exponents, we can easily see that the $𝑛^2$ term will be dominant and therefore this fragment of code is 𝑂($𝑛^2$). "
   ]
  },
  {
   "cell_type": "markdown",
   "metadata": {},
   "source": [
    "### Example: "
   ]
  },
  {
   "cell_type": "markdown",
   "metadata": {},
   "source": [
    "A good example problem for showing algorithms with different orders of magnitude is the classic anagram detection problem for strings. One string is an anagram of another if the second is simply a rearrangement of the first. For example, 'heart' and 'earth' are anagrams. The strings 'python' and 'typhon' are anagrams as well.\n",
    "There are multiple solutions for this problem: \n",
    "###  Version 1: \n",
    "If the two strings of equal length, and if each character in the first string exist in the second"
   ]
  },
  {
   "cell_type": "code",
   "execution_count": 11,
   "metadata": {},
   "outputs": [
    {
     "name": "stdout",
     "output_type": "stream",
     "text": [
      "True\n"
     ]
    }
   ],
   "source": [
    "def anagramSolution1(s1,s2):\n",
    "    stillOK = True # 1\n",
    "    if len(s1) != len(s2): # 2\n",
    "        stillOK = False # 3\n",
    "\n",
    "    alist = list(s2) # 4\n",
    "    pos1 = 0 # 5\n",
    "\n",
    "    while pos1 < len(s1) and stillOK: # 7\n",
    "        pos2 = 0 # 7 + X*1\n",
    "        found = False # 7+X*2\n",
    "        while pos2 < len(alist) and not found: # 7 + X*(2+(Y*2))\n",
    "            if s1[pos1] == alist[pos2]: # 7 + X*(2+(Y*3))\n",
    "                found = True # 7 + X*(2+(Y*4))\n",
    "            else:\n",
    "                pos2 = pos2 + 1 \n",
    "        if found: # 7 + X*(3+(Y*4))\n",
    "            alist[pos2] = None # 7 + X*(4+(Y*4))\n",
    "        else:\n",
    "            stillOK = False\n",
    "\n",
    "        pos1 = pos1 + 1 # 7 + X*(5+(Y*4))\n",
    "\n",
    "    return stillOK\n",
    "\n",
    "print(anagramSolution1('abcd','dcba'))\n"
   ]
  },
  {
   "cell_type": "markdown",
   "metadata": {},
   "source": [
    "### <font color='Blue'>Ex# 1: </font> :   What is the complexity of this solution?"
   ]
  },
  {
   "cell_type": "markdown",
   "metadata": {},
   "source": [
    "X = len(s1) \\\n",
    "Y = len(s2) \\\n",
    "\\\n",
    "time complexity: $7 + X*(5+(Y*4))$: $O(n^2)$"
   ]
  },
  {
   "cell_type": "markdown",
   "metadata": {},
   "source": [
    "###  Version 2:  \n",
    "Another solution to the anagram problem will make use of the fact that even though s1 and s2 are different, they are anagrams only if they consist of exactly the same characters. So, if we begin by sorting each string alphabetically, from a to z, we will end up with the same string if the original two strings are anagrams\n",
    "### <font color='blue'>Ex# 2: </font> :  Write your code to implement this solution? What is the complexity?  \n",
    "Hint: You will need to choose how you want to sort your list. Check this link for more details https://docs.python.org/3/howto/sorting.html"
   ]
  },
  {
   "cell_type": "code",
   "execution_count": 43,
   "metadata": {},
   "outputs": [
    {
     "name": "stdout",
     "output_type": "stream",
     "text": [
      "n99: 398 | True True | 4.307315826416016 0.00198459625244140628324\r"
     ]
    },
    {
     "data": {
      "image/png": "[encoded data removed]",
      "text/plain": [
       "<Figure size 640x480 with 1 Axes>"
      ]
     },
     "metadata": {},
     "output_type": "display_data"
    }
   ],
   "source": [
    "import random, string, time\n",
    "def anagramSolution2(s1,s2):\n",
    "    # O(nlog(n))\n",
    "    if len(s1) != len(s2): #or set(s1) != set(s2): \n",
    "        return False\n",
    "    else:\n",
    "        s1 = sorted(s1)\n",
    "        s2 = sorted(s2)\n",
    "        \n",
    "        for i in range(len(s1)):\n",
    "            if s1[i] != s2[i]:\n",
    "                return False\n",
    "            \n",
    "    return True \n",
    "\n",
    "def testAnagram(n):\n",
    "    letters = string.ascii_lowercase\n",
    "    anagram = [random.choice(letters) for i in range(n)]\n",
    "    s1 = ''.join(anagram)\n",
    "    random.shuffle(anagram)\n",
    "    if random.randint(0,2) == 1:\n",
    "        s2 = ''.join(anagram)\n",
    "    else:\n",
    "        s2 = ''.join([random.choice(letters) for i in range(n)])\n",
    "    return s1,s2\n",
    "    \n",
    "times1 = []\n",
    "times2 = []\n",
    "for i in range(100):\n",
    "    s1,s2 = testAnagram(i**2)\n",
    "    time_start = time.time()\n",
    "    sol1 = anagramSolution1(s1,s2)\n",
    "    time_end = time.time()\n",
    "    t1 = time_end-time_start\n",
    "    \n",
    "    time_start = time.time()\n",
    "    sol2 = anagramSolution2(s1,s2)\n",
    "    time_end = time.time()\n",
    "    t2 = time_end-time_start\n",
    "    \n",
    "    if sol1 != sol2:\n",
    "        raise\n",
    "    \n",
    "    print(f\"n{i}: {2*(i+100)} | {sol1} {sol2} | {t1} {t2}\", end = \"\\r\")\n",
    "    times1.append(t1)\n",
    "    times2.append(t2)\n",
    "    \n",
    "import matplotlib.pyplot as plt\n",
    "plt.plot(times1, 'o', label='Alg1')\n",
    "plt.plot(times2, 'o', label='Alg2')\n",
    "plt.legend()\n",
    "#plt.yscale('log')\n",
    "plt.show()\n"
   ]
  },
  {
   "cell_type": "code",
   "execution_count": 44,
   "metadata": {},
   "outputs": [
    {
     "name": "stdout",
     "output_type": "stream",
     "text": [
      "n499: 249001 | False | 0.043000698089599616\r"
     ]
    },
    {
     "data": {
      "image/png": "[encoded data removed]",
      "text/plain": [
       "<Figure size 640x480 with 1 Axes>"
      ]
     },
     "metadata": {},
     "output_type": "display_data"
    }
   ],
   "source": [
    "times2 = []\n",
    "for i in range(500):\n",
    "    s1,s2 = testAnagram(i**2)\n",
    "\n",
    "    \n",
    "    time_start = time.time()\n",
    "    sol2 = anagramSolution2(s1,s2)\n",
    "    time_end = time.time()\n",
    "    t2 = time_end-time_start\n",
    "    \n",
    "\n",
    "    \n",
    "    print(f\"n{i}: {i**2} | {sol2} | {t2}\", end = \"\\r\")\n",
    "    times1.append(t1)\n",
    "    times2.append(t2)\n",
    "    \n",
    "import matplotlib.pyplot as plt\n",
    "plt.plot(times2, 'o', label='Alg2')\n",
    "plt.legend()\n",
    "#plt.yscale('log')\n",
    "plt.show()"
   ]
  },
  {
   "cell_type": "markdown",
   "metadata": {},
   "source": [
    "--------------"
   ]
  },
  {
   "cell_type": "markdown",
   "metadata": {},
   "source": [
    "## Part 2:  Searching Algorithms\n",
    "Searching is ubiquitous and lies at the heart of computer science. In this section, you’ll learn about searching for an element in a list of items. \n",
    "\n",
    "### 2.1 Linear Search: \n",
    "Python already ships with linear search, so there’s no point in writing it yourself. The list data structure, for example, exposes a method that will return the index of an element or raise an exception otherwise:"
   ]
  },
  {
   "cell_type": "code",
   "execution_count": 7,
   "metadata": {},
   "outputs": [
    {
     "data": {
      "text/plain": [
       "2"
      ]
     },
     "execution_count": 7,
     "metadata": {},
     "output_type": "execute_result"
    }
   ],
   "source": [
    "fruits = ['orange', 'plum', 'banana', 'apple']\n",
    "fruits.index('banana')"
   ]
  },
  {
   "cell_type": "code",
   "execution_count": 8,
   "metadata": {},
   "outputs": [
    {
     "ename": "ValueError",
     "evalue": "'blueberry' is not in list",
     "output_type": "error",
     "traceback": [
      "\u001b[0;31m---------------------------------------------------------------------------\u001b[0m",
      "\u001b[0;31mValueError\u001b[0m                                Traceback (most recent call last)",
      "\u001b[0;32m<ipython-input-8-f8ff97fd1b2b>\u001b[0m in \u001b[0;36m<module>\u001b[0;34m\u001b[0m\n\u001b[0;32m----> 1\u001b[0;31m \u001b[0mfruits\u001b[0m\u001b[0;34m.\u001b[0m\u001b[0mindex\u001b[0m\u001b[0;34m(\u001b[0m\u001b[0;34m'blueberry'\u001b[0m\u001b[0;34m)\u001b[0m\u001b[0;34m\u001b[0m\u001b[0;34m\u001b[0m\u001b[0m\n\u001b[0m",
      "\u001b[0;31mValueError\u001b[0m: 'blueberry' is not in list"
     ]
    }
   ],
   "source": [
    "fruits.index('blueberry')"
   ]
  },
  {
   "cell_type": "markdown",
   "metadata": {},
   "source": [
    "This can also tell you if the element is present in the collection, but a more Pythonic way would involve using the versatile in operator:"
   ]
  },
  {
   "cell_type": "code",
   "execution_count": 9,
   "metadata": {},
   "outputs": [
    {
     "data": {
      "text/plain": [
       "True"
      ]
     },
     "execution_count": 9,
     "metadata": {},
     "output_type": "execute_result"
    }
   ],
   "source": [
    "'banana' in fruits"
   ]
  },
  {
   "cell_type": "code",
   "execution_count": 10,
   "metadata": {},
   "outputs": [
    {
     "data": {
      "text/plain": [
       "False"
      ]
     },
     "execution_count": 10,
     "metadata": {},
     "output_type": "execute_result"
    }
   ],
   "source": [
    "'blueberry' in fruits"
   ]
  },
  {
   "cell_type": "markdown",
   "metadata": {},
   "source": [
    "### 2.2 Binary/Bisection Search\n",
    "Binary search in Python can be performed using the built-in bisect module, which also helps with preserving a list in sorted order. It’s based on the bisection method for finding roots of functions. https://docs.python.org/3/library/bisect.html\n",
    "To find the index of an existing element in a sorted list, you want to bisect_left():"
   ]
  },
  {
   "cell_type": "code",
   "execution_count": 11,
   "metadata": {},
   "outputs": [
    {
     "data": {
      "text/plain": [
       "1"
      ]
     },
     "execution_count": 11,
     "metadata": {},
     "output_type": "execute_result"
    }
   ],
   "source": [
    "import bisect\n",
    "sorted_fruits = ['apple', 'banana', 'orange', 'plum']\n",
    "bisect.bisect_left(sorted_fruits, 'banana')\n"
   ]
  },
  {
   "cell_type": "markdown",
   "metadata": {},
   "source": [
    "The output tells you that a banana is the second fruit on the list because it was found at index 1. However, if an element was missing, then you’d still get its expected position:"
   ]
  },
  {
   "cell_type": "code",
   "execution_count": 12,
   "metadata": {},
   "outputs": [
    {
     "data": {
      "text/plain": [
       "1"
      ]
     },
     "execution_count": 12,
     "metadata": {},
     "output_type": "execute_result"
    }
   ],
   "source": [
    "bisect.bisect_left(sorted_fruits, 'apricot')"
   ]
  },
  {
   "cell_type": "code",
   "execution_count": 13,
   "metadata": {},
   "outputs": [
    {
     "data": {
      "text/plain": [
       "4"
      ]
     },
     "execution_count": 13,
     "metadata": {},
     "output_type": "execute_result"
    }
   ],
   "source": [
    "bisect.bisect_left(sorted_fruits, 'watermelon')"
   ]
  },
  {
   "cell_type": "markdown",
   "metadata": {},
   "source": [
    "Even though these fruits aren’t on the list yet, you can get an idea of where to put them. For example, an apricot should come between the apple and the banana, whereas a watermelon should become the last element.\n",
    "\n",
    "If you had multiple bananas, then bisect_left() would return the leftmost instance:"
   ]
  },
  {
   "cell_type": "code",
   "execution_count": 14,
   "metadata": {},
   "outputs": [
    {
     "data": {
      "text/plain": [
       "1"
      ]
     },
     "execution_count": 14,
     "metadata": {},
     "output_type": "execute_result"
    }
   ],
   "source": [
    "sorted_fruits = [\n",
    "    'apple',\n",
    "    'banana', 'banana', 'banana',\n",
    "    'orange',\n",
    "    'plum'\n",
    "]\n",
    "bisect.bisect_left(sorted_fruits, 'banana')"
   ]
  },
  {
   "cell_type": "markdown",
   "metadata": {},
   "source": [
    "Predictably, to get the rightmost banana, you’d need to call bisect_right() or its bisect() alias. However, those two functions return one index further from the actual rightmost banana, which is useful for finding the insertion point of a new element:"
   ]
  },
  {
   "cell_type": "code",
   "execution_count": 15,
   "metadata": {},
   "outputs": [
    {
     "data": {
      "text/plain": [
       "4"
      ]
     },
     "execution_count": 15,
     "metadata": {},
     "output_type": "execute_result"
    }
   ],
   "source": [
    "bisect.bisect_right(sorted_fruits, 'banana')"
   ]
  },
  {
   "cell_type": "markdown",
   "metadata": {},
   "source": [
    "### 2.3 Hashing: \n",
    "The concept of Hashing aims at building a data structure that can be searched in 𝑂(1) time. \n",
    "A hash table is a collection of items which are stored in such a way as to make it easy to find them later. Each position of the hash table, often called a slot, can hold an item and is named by an integer value starting at 0.\n",
    "\n",
    "The mapping between an item and the slot where that item belongs in the hash table is called the **hash function**. The hash function will take any item in the collection and return an integer in the range of slot names, between 0 and m-1. \n",
    "\n",
    "Assume that we have the set of integer item 54, 26, 93, and 31. Our first hash function, sometimes referred to as the “remainder method,” simply takes an item and divides it by the table size, let's assume our hash table of size 11,  returning the remainder as its hash value (ℎ(𝑖𝑡𝑒𝑚)=𝑖𝑡𝑒𝑚%11). Hash value will be calculated as: \n",
    "- 54>> 10\n",
    "- 26>> 4\n",
    "- 93>> 5\n",
    "- 31>> 9\n",
    "\n",
    "Each item will be allocated to the corresponding solt according to the output of the hash function. Now when we want to search for an item, we simply use the hash function to compute the slot name for the item and then check the hash table to see if it is present. This searching operation is 𝑂(1)"
   ]
  },
  {
   "attachments": {
    "image.png": {
     "image/png": "[encoded data removed]"
    }
   },
   "cell_type": "markdown",
   "metadata": {},
   "source": [
    "![image.png](attachment:image.png)"
   ]
  },
  {
   "cell_type": "markdown",
   "metadata": {},
   "source": [
    "#### Check whether an object is hashable: \n",
    "The hash() method returns the hash value of an object if it has one.\n"
   ]
  },
  {
   "cell_type": "code",
   "execution_count": 4,
   "metadata": {},
   "outputs": [
    {
     "name": "stdout",
     "output_type": "stream",
     "text": [
      "Hash for 181 is: 181\n",
      "Hash for 181.23 is: 530343892119126197\n",
      "Hash for Python is: -2452613484549447033\n"
     ]
    }
   ],
   "source": [
    "# hash for integer unchanged\n",
    "print('Hash for 181 is:', hash(181))\n",
    "\n",
    "# hash for decimal\n",
    "print('Hash for 181.23 is:',hash(181.23))\n",
    "\n",
    "# hash for string\n",
    "print('Hash for Python is:', hash('Python'))"
   ]
  },
  {
   "cell_type": "code",
   "execution_count": 17,
   "metadata": {},
   "outputs": [
    {
     "name": "stdout",
     "output_type": "stream",
     "text": [
      "The hash is: -5761000112591759508\n"
     ]
    }
   ],
   "source": [
    "# tuple of vowels\n",
    "vowels = ('a', 'e', 'i', 'o', 'u')\n",
    "print('The hash is:', hash(vowels))"
   ]
  },
  {
   "cell_type": "code",
   "execution_count": 18,
   "metadata": {},
   "outputs": [
    {
     "ename": "TypeError",
     "evalue": "unhashable type: 'list'",
     "output_type": "error",
     "traceback": [
      "\u001b[0;31m---------------------------------------------------------------------------\u001b[0m",
      "\u001b[0;31mTypeError\u001b[0m                                 Traceback (most recent call last)",
      "\u001b[0;32m<ipython-input-18-eac7893082ba>\u001b[0m in \u001b[0;36m<module>\u001b[0;34m\u001b[0m\n\u001b[1;32m      1\u001b[0m \u001b[0mvowels\u001b[0m \u001b[0;34m=\u001b[0m \u001b[0;34m[\u001b[0m\u001b[0;34m'a'\u001b[0m\u001b[0;34m,\u001b[0m \u001b[0;34m'e'\u001b[0m\u001b[0;34m,\u001b[0m \u001b[0;34m'i'\u001b[0m\u001b[0;34m,\u001b[0m \u001b[0;34m'o'\u001b[0m\u001b[0;34m,\u001b[0m \u001b[0;34m'u'\u001b[0m\u001b[0;34m]\u001b[0m\u001b[0;34m\u001b[0m\u001b[0;34m\u001b[0m\u001b[0m\n\u001b[0;32m----> 2\u001b[0;31m \u001b[0mprint\u001b[0m\u001b[0;34m(\u001b[0m\u001b[0;34m'The hash is:'\u001b[0m\u001b[0;34m,\u001b[0m \u001b[0mhash\u001b[0m\u001b[0;34m(\u001b[0m\u001b[0mvowels\u001b[0m\u001b[0;34m)\u001b[0m\u001b[0;34m)\u001b[0m\u001b[0;34m\u001b[0m\u001b[0;34m\u001b[0m\u001b[0m\n\u001b[0m",
      "\u001b[0;31mTypeError\u001b[0m: unhashable type: 'list'"
     ]
    }
   ],
   "source": [
    "vowels = ['a', 'e', 'i', 'o', 'u']\n",
    "print('The hash is:', hash(vowels))"
   ]
  },
  {
   "cell_type": "markdown",
   "metadata": {},
   "source": [
    "### <font color='blue'>Ex# 3: </font> :  What if one item in the tuple is a list, will it still be hashable?"
   ]
  },
  {
   "cell_type": "code",
   "execution_count": 46,
   "metadata": {},
   "outputs": [
    {
     "ename": "TypeError",
     "evalue": "unhashable type: 'list'",
     "output_type": "error",
     "traceback": [
      "\u001b[1;31m---------------------------------------------------------------------------\u001b[0m",
      "\u001b[1;31mTypeError\u001b[0m                                 Traceback (most recent call last)",
      "Cell \u001b[1;32mIn[46], line 2\u001b[0m\n\u001b[0;32m      1\u001b[0m a \u001b[38;5;241m=\u001b[39m ([\u001b[38;5;241m1\u001b[39m,\u001b[38;5;241m2\u001b[39m,\u001b[38;5;241m3\u001b[39m],\u001b[38;5;241m2\u001b[39m,\u001b[38;5;241m3\u001b[39m)\n\u001b[1;32m----> 2\u001b[0m \u001b[38;5;28mprint\u001b[39m(\u001b[38;5;28mhash\u001b[39m(a))\n",
      "\u001b[1;31mTypeError\u001b[0m: unhashable type: 'list'"
     ]
    }
   ],
   "source": [
    "a = ([1,2,3],2,3)\n",
    "print(hash(a))"
   ]
  },
  {
   "cell_type": "markdown",
   "metadata": {},
   "source": [
    "--------------"
   ]
  },
  {
   "cell_type": "markdown",
   "metadata": {},
   "source": [
    "## Part 3: Sorting Algorithms: "
   ]
  },
  {
   "cell_type": "markdown",
   "metadata": {},
   "source": [
    "Please refer to the lecture script for implementation of: Bubble sort, Insertion sort, Merge sort and Quick sort. In this part, we will discuss selection sort and some more examples based on sorting. \n",
    "\n",
    "### 3.1 Selection Sort\n",
    "Another famous sorting algorithm is selection sort. In selection sort we start by finding the minimum value in a given list and move it to a sorted list. Then we repeat the process for each of the remaining elements in the unsorted list. The next element entering the sorted list is compared with the existing elements and placed at its correct position. So at the end all the elements from the unsorted list are sorted."
   ]
  },
  {
   "cell_type": "markdown",
   "metadata": {},
   "source": [
    "### <font color='blue'>EX# 4: </font> :  Complete the following code for selection sort and try to answer these questions: \n",
    "\n",
    "- How many swaps are performed when we apply selection sort to a list of N items?\n",
    "- How many comparisons are performed when we apply selection sort to a list of N items?\n",
    "    - How many comparisons are performed when finding the smallest element when the unsorted portion of the list has M items?\n",
    "    - Sum over all the values of M encountered when sorting the list of length N to find the total number of comparisons.\n",
    "- The number of assignments (to the candidate smallest number) performed during the search for a smallest element is at most one more than the number of comparisons. Use this to find an upper limit on the total number of assignments performed while sorting a list of length N.\n",
    "- Use the results of the previous question to find an upper bound on the total number of operations (swaps, comparisons and assignments) performed? Which term in the number of operations will dominate for large lists?"
   ]
  },
  {
   "cell_type": "code",
   "execution_count": 47,
   "metadata": {},
   "outputs": [
    {
     "name": "stdout",
     "output_type": "stream",
     "text": [
      "[1, 2, 3, 12, 24, 65]\n"
     ]
    }
   ],
   "source": [
    "def selection_sort(items):\n",
    "    \"\"\"Sorts a list of items into ascending order using the\n",
    "       selection sort algoright.\n",
    "       \"\"\"\n",
    "    for step in range(len(items)):\n",
    "        # Find the location of the smallest element in\n",
    "        # items[step:].\n",
    "        location_of_smallest = step\n",
    "        for location in range(step, len(items)):\n",
    "            # TODO: determine location of smallest\n",
    "            if items[location] < items[location_of_smallest]:\n",
    "                location_of_smallest = location\n",
    "            ...\n",
    "        # TODO: Exchange items[step] with items[location_of_smallest]\n",
    "        items[step], items[location_of_smallest] = items[location_of_smallest], items[step]\n",
    "        ...\n",
    "\n",
    "a = [1,24,65,2,12,3]\n",
    "selection_sort(a)\n",
    "print(a)"
   ]
  },
  {
   "cell_type": "code",
   "execution_count": null,
   "metadata": {},
   "outputs": [],
   "source": [
    "import time\n",
    "\n",
    "a = "
   ]
  },
  {
   "cell_type": "markdown",
   "metadata": {},
   "source": [
    "### 3.2 Python's sorting algorithm: \n",
    "Python’s default sorting algorithm, which is used by the built-in sorted function as well as the sort method of list objects, is called Timsort. It’s an algorithm developed by Tim Peters in 2002 for use in Python https://en.wikipedia.org/wiki/Timsort. Timsort is a modified version of merge sort which uses insertion sort to arrange the list of items into conveniently mergeable sections."
   ]
  },
  {
   "cell_type": "markdown",
   "metadata": {},
   "source": [
    "**Syntax:**  sorted(iterable, key=key, reverse=reverse)\n",
    "\n",
    "Where : \n",
    "- iterable: The sequence to sort, list, dictionary, tuple etc.\n",
    "- key:(optional) a function to execute to decide the order. Default is None\n",
    "- reverse\t: (optional) A Boolean. False will sort ascending, True will sort descending. Default is False"
   ]
  },
  {
   "cell_type": "code",
   "execution_count": 20,
   "metadata": {},
   "outputs": [
    {
     "name": "stdout",
     "output_type": "stream",
     "text": [
      "['a', 'e', 'i', 'o', 'u']\n",
      "['P', 'h', 'n', 'o', 't', 'y']\n",
      "['a', 'e', 'i', 'o', 'u']\n"
     ]
    }
   ],
   "source": [
    "# vowels list\n",
    "py_list = ['e', 'a', 'u', 'o', 'i']\n",
    "print(sorted(py_list))\n",
    "\n",
    "# string\n",
    "py_string = 'Python'\n",
    "print(sorted(py_string))\n",
    "\n",
    "# vowels tuple\n",
    "py_tuple = ('e', 'a', 'u', 'o', 'i')\n",
    "print(sorted(py_tuple))"
   ]
  },
  {
   "cell_type": "markdown",
   "metadata": {},
   "source": [
    "###  Sorting the list using sorted() having a key function"
   ]
  },
  {
   "cell_type": "code",
   "execution_count": 48,
   "metadata": {},
   "outputs": [
    {
     "name": "stdout",
     "output_type": "stream",
     "text": [
      "Sorted list: [(4, 1), (2, 2), (1, 3), (3, 4)]\n"
     ]
    }
   ],
   "source": [
    "# take the second element for sort\n",
    "def take_second(elem):\n",
    "    return elem[1]\n",
    "\n",
    "\n",
    "# random list\n",
    "random = [(2, 2), (3, 4), (4, 1), (1, 3)]\n",
    "\n",
    "# sort list with key\n",
    "sorted_list = sorted(random, key=take_second)\n",
    "\n",
    "# print list\n",
    "print('Sorted list:', sorted_list)"
   ]
  },
  {
   "cell_type": "markdown",
   "metadata": {},
   "source": [
    "### Sorting with multiple keys\n",
    "Let us suppose that we have the following list:"
   ]
  },
  {
   "cell_type": "code",
   "execution_count": 22,
   "metadata": {},
   "outputs": [],
   "source": [
    "# Nested list of student's info in a Science Olympiad\n",
    "# List elements: (Student's Name, Marks out of 100, Age)\n",
    "\n",
    "participant_list = [\n",
    "    ('Alison', 50, 18),\n",
    "    ('Terence', 75, 12),\n",
    "    ('David', 75, 20),\n",
    "    ('Jimmy', 90, 22),\n",
    "    ('John', 45, 12)\n",
    "]"
   ]
  },
  {
   "cell_type": "markdown",
   "metadata": {},
   "source": [
    "We want to sort the list in such a way that the student with the highest marks is in the beginning. In case the students have equal marks, they must be sorted so that the younger participant comes first.\n",
    "\n",
    "We can achieve this type of sorting with multiple keys by returning tuple instead of a number.\n",
    "\n",
    "Two tuples can be compared by comparing their elements starting from first. If there is a tie (elements are equal), the second element is compared, and so on."
   ]
  },
  {
   "cell_type": "code",
   "execution_count": 23,
   "metadata": {},
   "outputs": [
    {
     "name": "stdout",
     "output_type": "stream",
     "text": [
      "False\n",
      "True\n",
      "True\n"
     ]
    }
   ],
   "source": [
    "print((1,3) > (1, 4))\n",
    "print((1, 4) < (2,2))\n",
    "print((1, 4, 1) < (2, 1))\n"
   ]
  },
  {
   "cell_type": "markdown",
   "metadata": {},
   "source": [
    "Let's use this logic to build our sorting logic."
   ]
  },
  {
   "cell_type": "code",
   "execution_count": 24,
   "metadata": {},
   "outputs": [
    {
     "name": "stdout",
     "output_type": "stream",
     "text": [
      "[('Jimmy', 90, 22), ('Terence', 75, 12), ('David', 75, 20), ('Alison', 50, 18), ('John', 45, 12)]\n"
     ]
    }
   ],
   "source": [
    "def sorter(item):\n",
    "    # Since highest marks first, least error = most marks\n",
    "    error = 100 - item[1]\n",
    "    age = item[2]\n",
    "    return (error, age)\n",
    "\n",
    "\n",
    "sorted_list = sorted(participant_list, key=sorter)\n",
    "print(sorted_list)"
   ]
  },
  {
   "cell_type": "markdown",
   "metadata": {},
   "source": [
    "### <font color='blue'>Ex# 5: </font> Find the smallest and second smallest elements in a list"
   ]
  },
  {
   "cell_type": "markdown",
   "metadata": {},
   "source": [
    "In this example , we try to find the two smallest items in a list. Many solutions can be developed for this problem. \n",
    "\n",
    "Input:  L = [12, 13, 1, 10, 34, 1]\n",
    "\n",
    "Output: The smallest element is 1 and \n",
    "        second Smallest element is 10"
   ]
  },
  {
   "cell_type": "markdown",
   "metadata": {},
   "source": [
    "- A Simple Solution is to sort the array in increasing order. The first two elements in sorted array would be two smallest elements. Time complexity of this solution is O(n Log n), depends on the sorting algorithm.\n",
    "\n",
    "- A Better Solution is to scan the array twice. In first traversal find the minimum element. Let this element be x. In second traversal, find the smallest element greater than x. Time complexity of this solution is O(n).\n",
    "\n"
   ]
  },
  {
   "cell_type": "code",
   "execution_count": 56,
   "metadata": {},
   "outputs": [
    {
     "name": "stdout",
     "output_type": "stream",
     "text": [
      "1 10\n"
     ]
    }
   ],
   "source": [
    "import sys \n",
    "  \n",
    "def print2Smallest(L):\n",
    "    min1 = 2**32 - 1\n",
    "    min2 = 2**32 - 1\n",
    "    for num in L:\n",
    "        if num < min1:\n",
    "            min1 = num\n",
    "    \n",
    "    for num in L:\n",
    "        if num < min2 and num != min1:\n",
    "            min2 = num\n",
    "            \n",
    "    print(min1,min2)\n",
    "        \n",
    "  \n",
    "    \n",
    "\n",
    "# Driver function to test above function \n",
    "list1 = [12, 13, 1, 10, 34, 1] \n",
    "print2Smallest(list1) \n",
    "  "
   ]
  },
  {
   "cell_type": "markdown",
   "metadata": {},
   "source": [
    "## Challenges: \n",
    "\n",
    "### <font color='blue'>Ch# 1: </font> \n",
    "Would you be able to provide an implementation of the anagram algorithm with O(n) complexity?\n",
    "O\n",
    "### <font color='blue'>Ch# 2: </font> \n",
    "Analysis often assumes \"worse case\" scenarios.  Now consider a \"best case\" scenario that might benefit insertion sort over selection sort.  Under what circumstances (if any) is insertion sort faster than selection sort?\n"
   ]
  },
  {
   "cell_type": "code",
   "execution_count": null,
   "metadata": {},
   "outputs": [],
   "source": []
  },
  {
   "cell_type": "markdown",
   "metadata": {},
   "source": [
    "## References and extra resources\n",
    "- https://realpython.com/binary-search-python/\n",
    "- https://runestone.academy/runestone/books/published/pythonds/AlgorithmAnalysis/\n",
    "- https://python-textbok.readthedocs.io/\n"
   ]
  },
  {
   "cell_type": "code",
   "execution_count": null,
   "metadata": {},
   "outputs": [],
   "source": []
  }
 ],
 "metadata": {
  "kernelspec": {
   "display_name": "Python 3 (ipykernel)",
   "language": "python",
   "name": "python3"
  },
  "language_info": {
   "codemirror_mode": {
    "name": "ipython",
    "version": 3
   },
   "file_extension": ".py",
   "mimetype": "text/x-python",
   "name": "python",
   "nbconvert_exporter": "python",
   "pygments_lexer": "ipython3",
   "version": "3.11.4"
  }
 },
 "nbformat": 4,
 "nbformat_minor": 4
}
