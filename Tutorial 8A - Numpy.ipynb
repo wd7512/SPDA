{
 "cells": [
  {
   "cell_type": "markdown",
   "metadata": {},
   "source": [
    "\n",
    "# EMATM0048: Software Development Programming and Algorithms (SDPA)\n",
    "# `Tutorial 8A - Numpy`\n"
   ]
  },
  {
   "cell_type": "markdown",
   "metadata": {
    "vscode": {
     "languageId": "plaintext"
    }
   },
   "source": [
    "## Ex 1: \n",
    "Write a NumPy program to create a 2d array with 1 on the border and 0 inside.\n",
    "\n",
    "Original array:\n",
    "[[1. 1. 1. 1. 1.]\n",
    " [1. 1. 1. 1. 1.]\n",
    " [1. 1. 1. 1. 1.]\n",
    " [1. 1. 1. 1. 1.]\n",
    " [1. 1. 1. 1. 1.]]\n",
    " \n",
    " \n",
    "**Expected output:** 1 on the border and 0 inside in the array\n",
    "[[1. 1. 1. 1. 1.]\n",
    " [1. 0. 0. 0. 1.]\n",
    " [1. 0. 0. 0. 1.]\n",
    " [1. 0. 0. 0. 1.]\n",
    " [1. 1. 1. 1. 1.]]"
   ]
  },
  {
   "cell_type": "code",
   "execution_count": 2,
   "metadata": {},
   "outputs": [
    {
     "data": {
      "text/plain": [
       "array([[1., 1., 1., 1., 1.],\n",
       "       [1., 0., 0., 0., 1.],\n",
       "       [1., 0., 0., 0., 1.],\n",
       "       [1., 0., 0., 0., 1.],\n",
       "       [1., 1., 1., 1., 1.]])"
      ]
     },
     "execution_count": 2,
     "metadata": {},
     "output_type": "execute_result"
    }
   ],
   "source": [
    "import numpy as np\n",
    "arr1 = np.ones((5,5))\n",
    "arr1[1:-1,1:-1] = np.zeros((3,3))\n",
    "arr1"
   ]
  },
  {
   "cell_type": "markdown",
   "metadata": {
    "vscode": {
     "languageId": "plaintext"
    }
   },
   "source": [
    "## Ex 2: \n",
    "Write a NumPy program to convert the values of Fahrenheit degrees into celsius degrees. \n",
    "\n",
    "**Expected Output:**\n",
    "Values in Fahrenheit degrees:\n",
    "[ 0. 12. 45.21 34. 99.91]\n",
    "Values in celsius degrees:\n",
    "[-17.77777778 -11.11111111 7.33888889 1.11111111 37.72777778]"
   ]
  },
  {
   "cell_type": "code",
   "execution_count": 5,
   "metadata": {},
   "outputs": [
    {
     "data": {
      "text/plain": [
       "array([-17.77777778, -11.11111111,   7.33888889,   1.11111111,\n",
       "        37.72777778])"
      ]
     },
     "execution_count": 5,
     "metadata": {},
     "output_type": "execute_result"
    }
   ],
   "source": [
    "FtoC = lambda f: (f-32)/1.8\n",
    "F = np.array([0,12,45.21,34,99.91])\n",
    "FtoC(F)"
   ]
  },
  {
   "cell_type": "markdown",
   "metadata": {
    "vscode": {
     "languageId": "plaintext"
    }
   },
   "source": [
    "## Ex 3:\n",
    "Write a NumPy program to get the values and indices of the elements that are bigger than 10 in a given array.\n",
    "\n",
    "Original array:                                                        \n",
    "[[ 0 10 20]\n",
    " [20 30 40]]                                                           \n",
    "**Expected output:**\n",
    "Values bigger than 10 = [20 20 30 40]                                  \n",
    "Their indices are  (array([0, 1, 1, 1]), array([2, 0, 1, 2]))\n"
   ]
  },
  {
   "cell_type": "code",
   "execution_count": 8,
   "metadata": {},
   "outputs": [
    {
     "name": "stdout",
     "output_type": "stream",
     "text": [
      "[20 20 30 40]\n",
      "Their indicies are [0 1 1 1], [2 0 1 2]\n"
     ]
    }
   ],
   "source": [
    "arr3 = np.array([[0,10,20],\n",
    "                [20,30,40]])\n",
    "\n",
    "biggerThan10 = np.where(arr3 > 10)\n",
    "print(arr3[biggerThan10])\n",
    "print(f\"Their indicies are {biggerThan10[0]}, {biggerThan10[1]}\")"
   ]
  },
  {
   "cell_type": "markdown",
   "metadata": {
    "vscode": {
     "languageId": "plaintext"
    }
   },
   "source": [
    "## Ex 4: \n",
    "Write a Python NumPy program to compute the weighted average for two arrays. \n",
    "\n",
    "The weighted arithmetic mean is similar to an ordinary arithmetic mean (the most common type of average), except that instead of each of the data points contributing equally to the final average, some data points contribute more than others. The notion of weighted mean plays a role in descriptive statistics and also occurs in a more general form in several other areas of mathematics.\n",
    "\n",
    "Basic example\n",
    "Given two school classes, one with 20 students, and one with 30 students, the grades in each class on a test were:\n",
    "Morning class = 62, 67, 71, 74, 76, 77, 78, 79, 79, 80, 80, 81, 81, 82, 83, 84, 86, 89, 93, 98\n",
    "Afternoon class = 81, 82, 83, 84, 85, 86, 87, 87, 88, 88, 89, 89, 89, 90, 90, 90, 90, 91, 91, 91, 92, 92, 93, 93, 94, 95, 96, 97, 98, 99\n",
    "\n",
    "Weighted average is : 86 "
   ]
  },
  {
   "cell_type": "code",
   "execution_count": 10,
   "metadata": {},
   "outputs": [
    {
     "data": {
      "text/plain": [
       "86.0"
      ]
     },
     "execution_count": 10,
     "metadata": {},
     "output_type": "execute_result"
    }
   ],
   "source": [
    "arr4_1 = np.array([62, 67, 71, 74, 76, 77, 78, 79, 79, 80, 80, 81, 81, 82, 83, 84, 86, 89, 93, 98])\n",
    "arr4_2 = np.array([81, 82, 83, 84, 85, 86, 87, 87, 88, 88, 89, 89, 89, 90, 90, 90, 90, 91, 91, 91, 92, 92, 93, 93, 94, 95, 96, 97, 98, 99])\n",
    "\n",
    "(np.mean(arr4_1)*20+np.mean(arr4_2)*30)/50"
   ]
  },
  {
   "cell_type": "markdown",
   "metadata": {
    "vscode": {
     "languageId": "plaintext"
    }
   },
   "source": [
    "## Ex 5: \n",
    "Replace all odd numbers in the given array with -1. \n",
    "\n",
    "Sample input: [0, 1, 2, 3, 4, 5, 6, 7, 8, 9]\n",
    "\n",
    "**Expected output:** [ 0 -1  2 -1  4 -1  6 -1  8 -1]\n"
   ]
  },
  {
   "cell_type": "code",
   "execution_count": 12,
   "metadata": {},
   "outputs": [
    {
     "data": {
      "text/plain": [
       "array([ 0, -1,  2, -1,  4, -1,  6, -1,  8, -1])"
      ]
     },
     "execution_count": 12,
     "metadata": {},
     "output_type": "execute_result"
    }
   ],
   "source": [
    "arr5 = np.array([0, 1, 2, 3, 4, 5, 6, 7, 8, 9])\n",
    "isOdd = lambda x: (x % 2) == 1\n",
    "\n",
    "arr5[np.where(isOdd(arr5))] = -1\n",
    "arr5"
   ]
  },
  {
   "cell_type": "markdown",
   "metadata": {
    "vscode": {
     "languageId": "plaintext"
    }
   },
   "source": [
    "## Ex #6: \n",
    "Compute averages using a sliding window over an array?\n",
    "\n",
    "Example: take the input [5, 2, 4, 6, 3, 1].A slidinhg winodow of size 2 is applied. The current sum of the pair, [5,2] is 7. Continue iterating through the entire array. One must slide the window up by 1 to reach the next iteration. The result is [3.5,3, 5, 4.5, 2]. Try with different window sizes. "
   ]
  },
  {
   "cell_type": "code",
   "execution_count": 14,
   "metadata": {},
   "outputs": [
    {
     "data": {
      "text/plain": [
       "array([3.5, 3. , 5. , 4.5, 2. ])"
      ]
     },
     "execution_count": 14,
     "metadata": {},
     "output_type": "execute_result"
    }
   ],
   "source": [
    "arr6 = np.array([5, 2, 4, 6, 3, 1])\n",
    "sliding = np.zeros(len(arr6)-1)\n",
    "\n",
    "for i in range(len(sliding)):\n",
    "    sliding[i] = np.mean(arr6[i:i+2])\n",
    "    \n",
    "sliding"
   ]
  },
  {
   "cell_type": "markdown",
   "metadata": {},
   "source": [
    "- More excercises at https://github.com/rougier/numpy-100\n",
    "    "
   ]
  },
  {
   "cell_type": "markdown",
   "metadata": {},
   "source": [
    "## Challenges: "
   ]
  },
  {
   "cell_type": "markdown",
   "metadata": {
    "vscode": {
     "languageId": "plaintext"
    }
   },
   "source": [
    " ## Ch #1: \n",
    " Consider the vector [1, 2, 3, 4, 5], how to build a new vector with 3 consecutive zeros interleaved between each value?\n"
   ]
  },
  {
   "cell_type": "code",
   "execution_count": 35,
   "metadata": {},
   "outputs": [
    {
     "data": {
      "text/plain": [
       "array([1, 0, 0, 0, 2, 0, 0, 0, 3, 0, 0, 0, 4, 0, 0, 0, 5])"
      ]
     },
     "execution_count": 35,
     "metadata": {},
     "output_type": "execute_result"
    }
   ],
   "source": [
    "ch1 =  [1, 2, 3, 4, 5]\n",
    "new_vec = np.zeros((len(ch1)-1)*4+1, dtype=int)\n",
    "\n",
    "new_vec[0::4] = ch1\n",
    "\n",
    "new_vec"
   ]
  },
  {
   "cell_type": "markdown",
   "metadata": {
    "vscode": {
     "languageId": "plaintext"
    }
   },
   "source": [
    "## Ch #2:\n",
    "Create a 2D array subclass to create a symmetric matrix from random numbers such that Z[i,j] == Z[j,i]\n",
    "An example symmetric matrix will look like:\n",
    "\n",
    "\n",
    "[[ 1, 10,  7, 11,  3],\n",
    "\n",
    "[10,  0,  8, 15,  2],\n",
    "\n",
    "\n",
    "[ 7,  8,  9,  6,  6],\n",
    "\n",
    "[11, 15,  6,  9, 12],\n",
    "          \n",
    "          \n",
    "[ 3,  2,  6, 12,  2]]\n"
   ]
  },
  {
   "cell_type": "code",
   "execution_count": 40,
   "metadata": {},
   "outputs": [
    {
     "name": "stdout",
     "output_type": "stream",
     "text": [
      "[[62 35 38 45 50]\n",
      " [35 42 83 80 92]\n",
      " [38 83 66 33 53]\n",
      " [45 80 33 58 74]\n",
      " [50 92 53 74 64]]\n"
     ]
    }
   ],
   "source": [
    "class randomSymetric:\n",
    "    def __init__(self,n):\n",
    "        self.arr = np.random.randint(0,50,size = (n,n))\n",
    "        \n",
    "        self.arr += self.arr.T\n",
    "        \n",
    "    def __str__(self):\n",
    "        return str(self.arr)\n",
    "    \n",
    "print(randomSymetric(5))"
   ]
  },
  {
   "cell_type": "code",
   "execution_count": 44,
   "metadata": {},
   "outputs": [
    {
     "data": {
      "text/plain": [
       "<matplotlib.image.AxesImage at 0x284f4df1cd0>"
      ]
     },
     "execution_count": 44,
     "metadata": {},
     "output_type": "execute_result"
    },
    {
     "data": {
      "image/png": "[encoded data removed]",
      "text/plain": [
       "<Figure size 480x480 with 1 Axes>"
      ]
     },
     "metadata": {},
     "output_type": "display_data"
    }
   ],
   "source": [
    "import matplotlib.pyplot as plt\n",
    "\n",
    "plt.matshow(randomSymetric(5).arr)"
   ]
  },
  {
   "cell_type": "code",
   "execution_count": null,
   "metadata": {},
   "outputs": [],
   "source": []
  }
 ],
 "metadata": {
  "kernelspec": {
   "display_name": "Python 3 (ipykernel)",
   "language": "python",
   "name": "python3"
  },
  "language_info": {
   "codemirror_mode": {
    "name": "ipython",
    "version": 3
   },
   "file_extension": ".py",
   "mimetype": "text/x-python",
   "name": "python",
   "nbconvert_exporter": "python",
   "pygments_lexer": "ipython3",
   "version": "3.11.4"
  }
 },
 "nbformat": 4,
 "nbformat_minor": 4
}
