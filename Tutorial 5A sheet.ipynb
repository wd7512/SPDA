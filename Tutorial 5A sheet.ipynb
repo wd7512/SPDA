{
 "cells": [
  {
   "cell_type": "markdown",
   "metadata": {},
   "source": [
    "# EMATM0048: Software Development Programming and Algorithms (SDPA)\n",
    "# `Tutorial 5`"
   ]
  },
  {
   "cell_type": "markdown",
   "metadata": {},
   "source": [
    "# Introduction"
   ]
  },
  {
   "cell_type": "markdown",
   "metadata": {},
   "source": [
    "Object Oriented Programming (OOP) is a [design pattern](https://en.wikipedia.org/wiki/Design_Patterns) in software development. OOP provides some advantages over other design patterns such as:\n",
    "\n",
    "1. **Modularity**: Helps us to troubleshoot our program easier. For example, if the *Vehicle* object broke down, we know the problem must be in the Vehicle class!\n",
    "2. **Reusability**: OOP allows us to resue methods and attributes of other objects through *inheritance*. This makes our code cleaner and more readable.\n",
    "3. **Flexibility**: Polymorphism allows us to have an object in different forms. For example, if we have a parent class \"Person\", and a child class \"Student\", the \"Student\" inherits all the moethods and attributes from the parent class \"Person\", however, \"Student\" may have its own implementation of methods. Polymorphism deals with how the program decides which methods it should use.\n",
    "4. **Effective problem solving**: With OOP, we can break down our software into smaller pieces, which makes problem solving easier.\n",
    "\n",
    "**Object** and **class** are the main concept of OOP. We can think of a class as a \"blueprint\" for objects."
   ]
  },
  {
   "cell_type": "markdown",
   "metadata": {},
   "source": [
    "# Classes"
   ]
  },
  {
   "cell_type": "markdown",
   "metadata": {},
   "source": [
    "## 1. Create a class"
   ]
  },
  {
   "cell_type": "markdown",
   "metadata": {},
   "source": [
    "To define a class, we use the **class** keyword followed by the name of the class and a colon. It is best practice to use CapitalizedWords (CamelCase) notation for class names."
   ]
  },
  {
   "cell_type": "code",
   "execution_count": 1,
   "metadata": {},
   "outputs": [],
   "source": [
    "class MyClass:\n",
    "    pass # pass means \"do nothing\", allows us to run this code without error."
   ]
  },
  {
   "cell_type": "markdown",
   "metadata": {},
   "source": [
    "A class can have a constructor which is called whenever an instance of the class is created. In python, **\\_\\_init\\_\\_** method is an initialiser which is used to instantiate objects. The **self** parameter refers to the object itself. (**self** is similar to **this** in C++ and Java)"
   ]
  },
  {
   "cell_type": "code",
   "execution_count": 2,
   "metadata": {},
   "outputs": [],
   "source": [
    "class MyClass:\n",
    "    def __init__(self):\n",
    "        print(\"An instance of MyClass was created!\")"
   ]
  },
  {
   "cell_type": "code",
   "execution_count": 3,
   "metadata": {},
   "outputs": [
    {
     "name": "stdout",
     "output_type": "stream",
     "text": [
      "An instance of MyClass was created!\n"
     ]
    }
   ],
   "source": [
    "my_class = MyClass() # We expect the __init__ method to be called and see the output of print statement"
   ]
  },
  {
   "cell_type": "markdown",
   "metadata": {},
   "source": [
    "We can pass any number of parameters to **\\_\\_init\\_\\_** method, but the first parameter must be **self**."
   ]
  },
  {
   "cell_type": "code",
   "execution_count": 4,
   "metadata": {},
   "outputs": [],
   "source": [
    "class MyClass:\n",
    "    def __init__(self, name=\"NewClass\", kind=\"Random\"):\n",
    "        self.name = name # creates a name property and assigns to it the value of the name parameter\n",
    "        self.kind = kind # creates a kind property and assigns to it the value of the kind parameter\n",
    "        print('Name:', name, ', Kind:', kind)"
   ]
  },
  {
   "cell_type": "code",
   "execution_count": 5,
   "metadata": {
    "scrolled": true
   },
   "outputs": [
    {
     "name": "stdout",
     "output_type": "stream",
     "text": [
      "Name: NewClass , Kind: Random\n"
     ]
    }
   ],
   "source": [
    "my_class = MyClass()"
   ]
  },
  {
   "cell_type": "markdown",
   "metadata": {},
   "source": [
    "The attributes defined inside **\\_\\_init\\_\\_** initialiser are the properties that all instances of this class must have. For example, any instance of *MyClass* must have the *name* and *kind* properties. <br>\n"
   ]
  },
  {
   "cell_type": "markdown",
   "metadata": {},
   "source": [
    "## 2. Instantiating objects"
   ]
  },
  {
   "cell_type": "markdown",
   "metadata": {},
   "source": [
    "To instantiate an object, we use the name of the class, followed by opening and closing paranthesis. Inside the paranthesis, we must pass values for the attributes defined inside **\\_\\_init\\_\\_** method, unless they have a default value."
   ]
  },
  {
   "cell_type": "code",
   "execution_count": 6,
   "metadata": {},
   "outputs": [],
   "source": [
    "class MyClass:\n",
    "    def __init__(self, name, kind, size='Large'): # set default value for size\n",
    "        self.name = name \n",
    "        self.kind = kind\n",
    "        self.size = size\n",
    "        print('Name:', name, ', Kind:', kind, \", Size:\", size)"
   ]
  },
  {
   "cell_type": "code",
   "execution_count": 7,
   "metadata": {
    "scrolled": true
   },
   "outputs": [
    {
     "name": "stdout",
     "output_type": "stream",
     "text": [
      "Name: MyClass , Kind: Random , Size: Large\n",
      "Name: YourClass , Kind: Static , Size: Large\n",
      "Name: OurClass , Kind: Static , Size: Small\n"
     ]
    }
   ],
   "source": [
    "my_class = MyClass(name=\"MyClass\", kind=\"Random\")\n",
    "your_class = MyClass(name=\"YourClass\", kind=\"Static\")\n",
    "our_class = MyClass(name=\"OurClass\", kind=\"Static\", size=\"Small\") # Rewrite the value of size"
   ]
  },
  {
   "cell_type": "code",
   "execution_count": 8,
   "metadata": {},
   "outputs": [
    {
     "name": "stdout",
     "output_type": "stream",
     "text": [
      "<__main__.MyClass object at 0x000002168F4F5790>\n"
     ]
    }
   ],
   "source": [
    "print(our_class) # Indicate the our_class is an instance of MyClass, followed by memory \n",
    "# address that indicates where the our_class object is stored"
   ]
  },
  {
   "cell_type": "markdown",
   "metadata": {},
   "source": [
    "### Instance vs Class Attributes"
   ]
  },
  {
   "cell_type": "markdown",
   "metadata": {},
   "source": [
    "*Instance attributes* are defined inside the **\\_\\_init\\_\\_** method and their values are specific to a particular instance of the class. While *class attributes* are the same for every instance of class. Class atttributes are defined directly beneath the first line of the class name. The value of class attributes can be modify from an external function. \n"
   ]
  },
  {
   "cell_type": "code",
   "execution_count": 9,
   "metadata": {},
   "outputs": [],
   "source": [
    "class Coin:\n",
    "    ID = 0 # Class attribute\n",
    "    \n",
    "    def __init__(self, name):\n",
    "        self.name = name\n",
    "    "
   ]
  },
  {
   "cell_type": "code",
   "execution_count": 10,
   "metadata": {},
   "outputs": [
    {
     "name": "stdout",
     "output_type": "stream",
     "text": [
      "Penny ID:  0\n",
      "Nickle ID:  0\n"
     ]
    }
   ],
   "source": [
    "penny = Coin(name=\"Penny\")\n",
    "nickel = Coin(name=\"Nickel\")\n",
    "\n",
    "print(\"Penny ID: \", penny.ID)\n",
    "print(\"Nickle ID: \", penny.ID)"
   ]
  },
  {
   "cell_type": "code",
   "execution_count": 11,
   "metadata": {},
   "outputs": [
    {
     "name": "stdout",
     "output_type": "stream",
     "text": [
      "Penny ID:  99\n",
      "Nickle ID:  99\n"
     ]
    }
   ],
   "source": [
    "Coin.ID = 99 # Change the value of class attribute ID to 99    \n",
    "print(\"Penny ID: \", penny.ID)\n",
    "print(\"Nickle ID: \", penny.ID)"
   ]
  },
  {
   "cell_type": "markdown",
   "metadata": {},
   "source": [
    "## 3. Instance Method"
   ]
  },
  {
   "cell_type": "markdown",
   "metadata": {},
   "source": [
    "Instance methods are defined inside a class and can be accessed/called from an instance of that class. Similar to **\\_\\_init\\_\\_** method, the first parameter must be **self**."
   ]
  },
  {
   "cell_type": "code",
   "execution_count": 12,
   "metadata": {},
   "outputs": [],
   "source": [
    "class Calculator:\n",
    "    def __init__(self, name, kind):\n",
    "        self.name = name\n",
    "        kind = kind\n",
    "        \n",
    "    def sum_xy(self, x, y): # Method to calculate the sum of x and y \n",
    "        return x+y\n",
    "    \n",
    "    def subtract_xy(self, x, y):# Method to calculate the subtraction of x and y \n",
    "        return x-y\n",
    "    "
   ]
  },
  {
   "cell_type": "code",
   "execution_count": 13,
   "metadata": {
    "scrolled": true
   },
   "outputs": [
    {
     "name": "stdout",
     "output_type": "stream",
     "text": [
      "15\n",
      "5\n"
     ]
    }
   ],
   "source": [
    "calc = Calculator(name=\"Casio\", kind=\"Very Basic\")\n",
    "x = 10\n",
    "y = 5\n",
    "print(calc.sum_xy(x,y))\n",
    "print(calc.subtract_xy(x,y))"
   ]
  },
  {
   "cell_type": "code",
   "execution_count": 14,
   "metadata": {
    "scrolled": true
   },
   "outputs": [
    {
     "name": "stdout",
     "output_type": "stream",
     "text": [
      "<__main__.Calculator object at 0x000002168F5057D0>\n"
     ]
    }
   ],
   "source": [
    "print(calc) # print calc instance"
   ]
  },
  {
   "cell_type": "markdown",
   "metadata": {},
   "source": [
    "Can we get more meaningful description of our instance? Yes, we need to override **\\_\\_str\\_\\_** (string representation of the object) method. "
   ]
  },
  {
   "cell_type": "code",
   "execution_count": 15,
   "metadata": {},
   "outputs": [],
   "source": [
    "class Calculator:\n",
    "    def __init__(self, name, kind):\n",
    "        self.name = name\n",
    "        kind = kind\n",
    "        \n",
    "    def sum_xy(self, x, y): # Method to calcualte the sum of x and y \n",
    "        return x+y\n",
    "    \n",
    "    def subtract_xy(self, x, y):# Method to calcualte the subtraction of x and y \n",
    "        return x-y\n",
    "    \n",
    "    # Overriding __str__ method \n",
    "    def __str__(self):\n",
    "        return \"This is a \" + self.name + \" calculator instance of the Calculator class.\""
   ]
  },
  {
   "cell_type": "code",
   "execution_count": 16,
   "metadata": {},
   "outputs": [
    {
     "name": "stdout",
     "output_type": "stream",
     "text": [
      "This is a Casio calculator instance of the Calculator class.\n"
     ]
    }
   ],
   "source": [
    "calc = Calculator(name=\"Casio\", kind=\"Very Basic\")\n",
    "print(calc)"
   ]
  },
  {
   "cell_type": "markdown",
   "metadata": {},
   "source": [
    "## 4. Inheritance"
   ]
  },
  {
   "cell_type": "markdown",
   "metadata": {},
   "source": [
    "We use inheritance when we want to inherit all attributes and methods of another class. The newly formed class is called *child*, and the class which the child is derived from is called *parent*. The child class can override (modify the current arrtibutes and methods) and extend (add new attributes and methods) the parent class. <br>\n",
    "To inherit a class, we create new class with its own name and put the name of the parent class in parentheses."
   ]
  },
  {
   "cell_type": "code",
   "execution_count": 17,
   "metadata": {},
   "outputs": [],
   "source": [
    "class Person:\n",
    "    def __init__(self, name):\n",
    "        print(\"Name of the person is \", name)\n",
    "        \n",
    "    def walking(self):\n",
    "        print(\"Person is walking\")\n",
    "        \n",
    "    def sleeping(self):\n",
    "        print(\"Person is sleeping\")"
   ]
  },
  {
   "cell_type": "code",
   "execution_count": 18,
   "metadata": {},
   "outputs": [],
   "source": [
    "class Student(Person):\n",
    "    def __init__(self, name):\n",
    "        super().__init__(name) # Call __init__ method from the parent class using builtin super()\n",
    "        self.name = name\n",
    "    \n",
    "    # Override the walking method from the parent class \n",
    "    def walking(self):\n",
    "        print(\"Student is walking\")\n",
    "    \n",
    "    # Extend the Functionality of a Person Class by adding more methods\n",
    "    def studying(self):\n",
    "        print(\"Student is studying\")\n",
    "        \n",
    "    "
   ]
  },
  {
   "cell_type": "code",
   "execution_count": 19,
   "metadata": {},
   "outputs": [
    {
     "name": "stdout",
     "output_type": "stream",
     "text": [
      "Name of the person is  Kevin\n",
      "Student is walking\n",
      "Person is sleeping\n",
      "Student is studying\n"
     ]
    }
   ],
   "source": [
    "student1 = Student(name = \"Kevin\")\n",
    "student1.walking()\n",
    "student1.sleeping()\n",
    "student1.studying()"
   ]
  },
  {
   "cell_type": "code",
   "execution_count": 20,
   "metadata": {},
   "outputs": [
    {
     "name": "stdout",
     "output_type": "stream",
     "text": [
      "<class '__main__.Student'>\n",
      "True\n",
      "True\n"
     ]
    }
   ],
   "source": [
    "print(type(student1)) # student1 is Student type\n",
    "print(isinstance(student1, Person)) # student1 is instance of Person\n",
    "print(isinstance(student1, Student)) # student1 is instance of Student as well"
   ]
  },
  {
   "cell_type": "markdown",
   "metadata": {},
   "source": [
    "## 5. Modifying/Adding attributes"
   ]
  },
  {
   "cell_type": "code",
   "execution_count": 21,
   "metadata": {},
   "outputs": [],
   "source": [
    "class SimpleClass:\n",
    "    def __init__(self, name=\"simple class\"):\n",
    "        self.name = name"
   ]
  },
  {
   "cell_type": "code",
   "execution_count": 22,
   "metadata": {},
   "outputs": [
    {
     "name": "stdout",
     "output_type": "stream",
     "text": [
      "simple class\n"
     ]
    }
   ],
   "source": [
    "student1 = SimpleClass()\n",
    "print(student1.name) # print \"simple class\" \n",
    "student1.name = \"Kevin\" # Change the name attribute for student1 instance\n",
    "student1.grade = \"A\""
   ]
  },
  {
   "cell_type": "code",
   "execution_count": 23,
   "metadata": {},
   "outputs": [
    {
     "name": "stdout",
     "output_type": "stream",
     "text": [
      "Kevin\n",
      "A\n"
     ]
    }
   ],
   "source": [
    "print(student1.name)\n",
    "print(student1.grade)"
   ]
  },
  {
   "cell_type": "markdown",
   "metadata": {},
   "source": [
    "we can use builtin fucntions to access and modify attributes of instances. <br>\n",
    "**getattr(obj, name[, default])** − access the attribute of object.<br>\n",
    "**hasattr(obj,name)** − check whether an attribute exists or not.<br>\n",
    "**setattr(obj,name,value)** − set an attribute. If attribute does not exist, then it would be created.<br>\n",
    "**delattr(obj, name)** − delete an attribute.<br>"
   ]
  },
  {
   "cell_type": "code",
   "execution_count": 24,
   "metadata": {},
   "outputs": [
    {
     "data": {
      "text/plain": [
       "'Kevin'"
      ]
     },
     "execution_count": 24,
     "metadata": {},
     "output_type": "execute_result"
    }
   ],
   "source": [
    "getattr(student1, 'name') # Throws an error if attributes doesn't exist"
   ]
  },
  {
   "cell_type": "code",
   "execution_count": 25,
   "metadata": {},
   "outputs": [
    {
     "data": {
      "text/plain": [
       "False"
      ]
     },
     "execution_count": 25,
     "metadata": {},
     "output_type": "execute_result"
    }
   ],
   "source": [
    "hasattr(student1,\"age\")"
   ]
  },
  {
   "cell_type": "code",
   "execution_count": 26,
   "metadata": {},
   "outputs": [
    {
     "name": "stdout",
     "output_type": "stream",
     "text": [
      "25\n"
     ]
    }
   ],
   "source": [
    "setattr(student1,\"age\",25)\n",
    "print(student1.age)"
   ]
  },
  {
   "cell_type": "code",
   "execution_count": 27,
   "metadata": {},
   "outputs": [
    {
     "data": {
      "text/plain": [
       "False"
      ]
     },
     "execution_count": 27,
     "metadata": {},
     "output_type": "execute_result"
    }
   ],
   "source": [
    "delattr(student1, \"age\") \n",
    "hasattr(student1,\"age\")"
   ]
  },
  {
   "cell_type": "markdown",
   "metadata": {},
   "source": [
    "### Importing a class"
   ]
  },
  {
   "cell_type": "markdown",
   "metadata": {},
   "source": [
    "To illustrate how to import class from other module, we created two classes (*SimpleCalc* and *Machine*) in *MyModule.py* file. "
   ]
  },
  {
   "cell_type": "code",
   "execution_count": 28,
   "metadata": {},
   "outputs": [
    {
     "name": "stdout",
     "output_type": "stream",
     "text": [
      "New SimpleCalc was created!\n",
      "New Machine was created!\n"
     ]
    }
   ],
   "source": [
    "# Import all classes in MyModule\n",
    "from MyModule import *\n",
    "calc = SimpleCalc()\n",
    "machine = Machine()"
   ]
  },
  {
   "cell_type": "code",
   "execution_count": 29,
   "metadata": {},
   "outputs": [
    {
     "name": "stdout",
     "output_type": "stream",
     "text": [
      "New SimpleCalc was created!\n",
      "New Machine was created!\n"
     ]
    }
   ],
   "source": [
    "# Import classes one by one\n",
    "from MyModule import SimpleCalc, Machine\n",
    "calc = SimpleCalc()\n",
    "machine = Machine()"
   ]
  },
  {
   "cell_type": "markdown",
   "metadata": {},
   "source": [
    "# <font color='Blue'>Exercises: </font> \n"
   ]
  },
  {
   "cell_type": "markdown",
   "metadata": {},
   "source": [
    "**Exercise 1.**  Create a Vehicle class with attributes *name* and *mileage*. Set a default value of 0 for the *mileage* attribute. Define a method called *travel* which incremenets the *mileage* by 1 whenever it's called."
   ]
  },
  {
   "cell_type": "code",
   "execution_count": 30,
   "metadata": {},
   "outputs": [],
   "source": [
    "# Answer\n",
    "class Vehicle:\n",
    "    def __init__(self,name,mileage=0):\n",
    "        self.name = name\n",
    "        self.mileage = mileage\n",
    "        \n",
    "    def travel(self):\n",
    "        self.mileage += 1"
   ]
  },
  {
   "cell_type": "code",
   "execution_count": 31,
   "metadata": {},
   "outputs": [
    {
     "data": {
      "text/plain": [
       "0"
      ]
     },
     "execution_count": 31,
     "metadata": {},
     "output_type": "execute_result"
    }
   ],
   "source": [
    "car = Vehicle('car')\n",
    "car.mileage"
   ]
  },
  {
   "cell_type": "markdown",
   "metadata": {},
   "source": [
    "_____"
   ]
  },
  {
   "cell_type": "markdown",
   "metadata": {},
   "source": [
    "**Exercise 2.** Create a class BMW which inherits the Vehicle class. Add a *model* and *color* attribute which represent the model and the color of the BMW. Define a method *set_color* which takes a color as an input and change the color of BMW instance."
   ]
  },
  {
   "cell_type": "code",
   "execution_count": 32,
   "metadata": {},
   "outputs": [
    {
     "data": {
      "text/plain": [
       "'BMW'"
      ]
     },
     "execution_count": 32,
     "metadata": {},
     "output_type": "execute_result"
    }
   ],
   "source": [
    "# Answer\n",
    "class BMW(Vehicle):\n",
    "    def __init__(self,model,color):\n",
    "        super().__init__('BMW')\n",
    "        self.model = model\n",
    "        self.color = color\n",
    "        \n",
    "    def set_color(self,color):\n",
    "        self.color = color\n",
    "        \n",
    "a = BMW('big','green')\n",
    "a.name"
   ]
  },
  {
   "cell_type": "markdown",
   "metadata": {},
   "source": [
    "_____"
   ]
  },
  {
   "cell_type": "markdown",
   "metadata": {},
   "source": [
    "**Exercise 3.**  **Try this!:** We want to keep track of the number of Employees that have been recruited. Create an Employee class, define a class attribute *count* which is incremented when a new instance of Employee is created. Moreover, define a method which print the current value of *count* and name it *get_count*. (count start from 0)"
   ]
  },
  {
   "cell_type": "code",
   "execution_count": 36,
   "metadata": {},
   "outputs": [
    {
     "name": "stdout",
     "output_type": "stream",
     "text": [
      "1\n",
      "2\n",
      "3\n"
     ]
    }
   ],
   "source": [
    "# Answer\n",
    "class Employee:\n",
    "    count = 0\n",
    "    def __init__(self):\n",
    "        Employee.count += 1\n",
    "        \n",
    "    def get_count(self):\n",
    "        print(Employee.count)\n",
    "        \n",
    "a = Employee()\n",
    "a.get_count()\n",
    "b = Employee()\n",
    "b.get_count()\n",
    "Employee()\n",
    "a.get_count()"
   ]
  },
  {
   "cell_type": "markdown",
   "metadata": {},
   "source": [
    "_____"
   ]
  },
  {
   "cell_type": "markdown",
   "metadata": {},
   "source": [
    "**Exercise 4.** Write the definition of a Point class. Objects from this class should have a\n",
    "\n",
    "    - a method show to display the coordinates of the point\n",
    "    - a method move to change these coordinates.\n",
    "    - a method dist that computes the distance between 2 points. Note the distance between 2 points A(x0, y0) and B(x1, y1) can be compute as (http://www.mathwarehouse.com/algebra/distance_formula/index.php)"
   ]
  },
  {
   "cell_type": "code",
   "execution_count": 34,
   "metadata": {},
   "outputs": [],
   "source": [
    "##Expected output \n",
    "class Point:\n",
    "    def __init__(self,x,y):\n",
    "        self.x = x\n",
    "        self.y = y\n",
    "        \n",
    "    def show_coordinates(self):\n",
    "        return (self.x,self.y)\n",
    "        \n",
    "    def move_cootdinates(self,x_delta,y_delta):\n",
    "        self.x += x_delta\n",
    "        self.y += y_delta\n",
    "        \n",
    "    def distance_to_point(self,p):\n",
    "        x0 = self.x\n",
    "        y0 = self.y\n",
    "        x1 = p.x\n",
    "        y1 = p.y\n",
    "        return ((x0-x1)**2+(y0-y1)**2)**(1/2)\n",
    "        \n",
    "\n",
    "\n",
    "\n",
    "p1 = Point(2, 3)\n",
    "p2 = Point(3, 3)\n"
   ]
  },
  {
   "cell_type": "code",
   "execution_count": 35,
   "metadata": {},
   "outputs": [
    {
     "name": "stdout",
     "output_type": "stream",
     "text": [
      "(2, 3)\n",
      "(3, 3)\n",
      "(12, -7)\n",
      "(3, 3)\n",
      "13.45362404707371\n"
     ]
    }
   ],
   "source": [
    "print(p1.show_coordinates())\n",
    "#(2, 3)\n",
    "print(p2.show_coordinates())\n",
    "#(3, 3)\n",
    "p1.move_cootdinates(10, -10)\n",
    "print(p1.show_coordinates())\n",
    "#(12, -7)\n",
    "print(p2.show_coordinates())\n",
    "#(3, 3)\n",
    "print(p1.distance_to_point(p2))\n",
    "#13.45362404707371"
   ]
  },
  {
   "cell_type": "markdown",
   "metadata": {},
   "source": [
    "# <font color='Blue'> Bonus challenging problems </font>\n",
    "Don't worry about doing these bonus problems. In most cases, challenge questions ask you to think more critically or use more advanced algorithms.\n"
   ]
  },
  {
   "cell_type": "markdown",
   "metadata": {},
   "source": [
    "\n",
    "Describe a possible collection of classes which can be used to represent a music collection (for example, inside a music player), focusing on how they would be related by composition. You should include classes for songs, artists, albums and playlists. \n",
    "- Hint: write down the four class names, draw a line between each pair of classes which you think should have a relationship, and decide what kind of relationship would be the most appropriate.\n",
    "\n",
    "For simplicity you can assume that any song or album has a single “artist” value (which could represent more than one person), but you should include compilation albums (which contain songs by a selection of different artists). The “artist” of a compilation album can be a special value like “Various Artists”. You can also assume that each song is associated with a single album, but that multiple copies of the same song (which are included in different albums) can exist."
   ]
  },
  {
   "cell_type": "code",
   "execution_count": null,
   "metadata": {},
   "outputs": [],
   "source": []
  }
 ],
 "metadata": {
  "kernelspec": {
   "display_name": "Python 3 (ipykernel)",
   "language": "python",
   "name": "python3"
  },
  "language_info": {
   "codemirror_mode": {
    "name": "ipython",
    "version": 3
   },
   "file_extension": ".py",
   "mimetype": "text/x-python",
   "name": "python",
   "nbconvert_exporter": "python",
   "pygments_lexer": "ipython3",
   "version": "3.11.4"
  }
 },
 "nbformat": 4,
 "nbformat_minor": 4
}
