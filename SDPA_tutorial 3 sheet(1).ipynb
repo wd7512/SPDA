{
 "cells": [
  {
   "cell_type": "markdown",
   "metadata": {},
   "source": [
    "# EMATM0048: Software Development Programming and Algorithms (SDPA)\n",
    "# `Tutorial 3`\n",
    "\n",
    "\n",
    "In this tutorial we will learn more about compound data types in Python, that includes: \n",
    "\n",
    "* Tuples\n",
    "* Lists\n",
    "* Dictionaries\n",
    "* Sets\n",
    "* Useful methods with looping\n"
   ]
  },
  {
   "cell_type": "markdown",
   "metadata": {},
   "source": [
    "# 1. Tuples:\n",
    "Tuples are ordered and immutable, which means you are not allowed to change a value of an element in a tuple.\n",
    "## 1.1 Creating and accessing tuples\n",
    "We start with creating an empty tuple."
   ]
  },
  {
   "cell_type": "code",
   "execution_count": 1,
   "metadata": {},
   "outputs": [],
   "source": [
    "x = () # Using pair of parentheses to create an empty tuple\n",
    "x = 'a', # Using trailing comma for a singleton tuple\n",
    "x = ('a',) # Using trailing comma in brackets for a singleton tuple\n",
    "x = 'a', 'b', 'c' # Using separating commas for a multiple object tuple\n",
    "x = tuple() # Using the tuple() built-in function"
   ]
  },
  {
   "cell_type": "markdown",
   "metadata": {},
   "source": [
    "A tuple can be instantiated as an empty container or directly with values. We can create tuples\n",
    "with different datatypes and then access the values using an index specified inside square\n",
    "brackets:"
   ]
  },
  {
   "cell_type": "code",
   "execution_count": 2,
   "metadata": {},
   "outputs": [
    {
     "name": "stdout",
     "output_type": "stream",
     "text": [
      "Clifton\n",
      "58.195\n",
      "True\n"
     ]
    },
    {
     "ename": "IndexError",
     "evalue": "tuple index out of range",
     "output_type": "error",
     "traceback": [
      "\u001b[1;31m---------------------------------------------------------------------------\u001b[0m",
      "\u001b[1;31mIndexError\u001b[0m                                Traceback (most recent call last)",
      "Cell \u001b[1;32mIn[2], line 6\u001b[0m\n\u001b[0;32m      4\u001b[0m \u001b[38;5;28mprint\u001b[39m(car1[\u001b[38;5;241m2\u001b[39m])\u001b[38;5;66;03m# print third value in car1\u001b[39;00m\n\u001b[0;32m      5\u001b[0m \u001b[38;5;28mprint\u001b[39m(car1[\u001b[38;5;241m-\u001b[39m\u001b[38;5;241m1\u001b[39m])\u001b[38;5;66;03m# Use negative index to get last value of car1\u001b[39;00m\n\u001b[1;32m----> 6\u001b[0m \u001b[38;5;28mprint\u001b[39m(house1[\u001b[38;5;241m4\u001b[39m])\n",
      "\u001b[1;31mIndexError\u001b[0m: tuple index out of range"
     ]
    }
   ],
   "source": [
    "car1 = ('Porsche', 'Cayenne', 58.195, True) # Create car1 tuple\n",
    "house1 = ('Clifton', 78.9, 'freehold', False) # Create house1 tuple\n",
    "print(house1[0])# print first value in house1\n",
    "print(car1[2])# print third value in car1\n",
    "print(car1[-1])# Use negative index to get last value of car1\n",
    "print(house1[4])# Get fifth value in house1\n"
   ]
  },
  {
   "cell_type": "markdown",
   "metadata": {},
   "source": [
    "__Note:__ As we can see, there is an index error with the last statement as it is trying to access an index\n",
    "larger than the number of items in the tuple."
   ]
  },
  {
   "cell_type": "markdown",
   "metadata": {},
   "source": [
    "## 1.2 Concatenating, repeating and slicing of tuples\n",
    "Similar to strings, we can concatenate tuples or repeat a tuple multiple times."
   ]
  },
  {
   "cell_type": "code",
   "execution_count": 3,
   "metadata": {},
   "outputs": [
    {
     "name": "stdout",
     "output_type": "stream",
     "text": [
      "('Porsche', 'Cayenne', 58.195, True, 'London', '12/10/20')\n",
      "('Porsche', 'Cayenne')\n",
      "('Cayenne', 58.195)\n",
      "('Porsche', 'Cayenne', 58.195, True, 'Porsche', 'Cayenne', 58.195, True)\n"
     ]
    }
   ],
   "source": [
    "car1 = ('Porsche', 'Cayenne', 58.195, True)\n",
    "sale1 = car1 + ('London', '12/10/20')\n",
    "print(sale1) # Prints concatenated tuple of car1 and 'London','12/10/20')\n",
    "print(car1[:2]) # prints element from index 0 up to the index 2\n",
    "print(car1[-3:-1]) # prints from third to last up to the last element\n",
    "print(car1*2) # Prints all elements of car twice in a single tuple"
   ]
  },
  {
   "cell_type": "markdown",
   "metadata": {},
   "source": [
    "# 2. Lists: \n",
    "Lists are the  most versatile datatype available in Python which can be written as a list of comma separated\n",
    "values (items) between square brackets. Lists are mutable, which allows you to\n",
    "change the element inside the list. In the context of data science, lists tend to be used with\n",
    "homogeneous datatypes making it more efficient to process large data sets.\n",
    "\n",
    "## 2.1 Constructing lists\n",
    "There are several way to construct a list:"
   ]
  },
  {
   "cell_type": "code",
   "execution_count": 4,
   "metadata": {},
   "outputs": [],
   "source": [
    "x = []# Using pair of bracket to create an empty tuple\n",
    "x = ['a']\n",
    "x = ['a', 'b','c'] # Using square brackets, separating items with commas\n",
    "x = list() # Using the list() built-in function"
   ]
  },
  {
   "cell_type": "markdown",
   "metadata": {},
   "source": [
    "## 2.2 Accessing elements\n",
    "Similar to tuples, elements of a list can be accessed by their indices:"
   ]
  },
  {
   "cell_type": "code",
   "execution_count": 5,
   "metadata": {},
   "outputs": [
    {
     "name": "stdout",
     "output_type": "stream",
     "text": [
      "Red\n",
      "Black\n",
      "Green\n"
     ]
    }
   ],
   "source": [
    "colours = ['Red', 'Blue', 'Green', 'Black']\n",
    "print(colours[0])\n",
    "print(colours[-1])\n",
    "print(colours[2])"
   ]
  },
  {
   "cell_type": "markdown",
   "metadata": {},
   "source": [
    "## 2.3 Modifying lists\n",
    "Lists are mutable; Once a list has been created, elements can be added, deleted, shifted, and\n",
    "moved around at will. Python provides a wide range of ways to modify lists:"
   ]
  },
  {
   "cell_type": "code",
   "execution_count": 6,
   "metadata": {},
   "outputs": [
    {
     "name": "stdout",
     "output_type": "stream",
     "text": [
      "['Red', 'Blue', 'Green', 'Black', 'White']\n",
      "['Red', 'Blue', 'Purple', 'Green', 'Black', 'White']\n",
      "['Blue', 'Purple', 'Black', 'White']\n",
      "['Blue', 'Black', 'White']\n",
      "Purple\n",
      "['Blue', 'Black', 'Orange']\n"
     ]
    }
   ],
   "source": [
    "colours = ['Red', 'Blue', 'Green', 'Black'] # Creating a list of colours\n",
    "colours.append('White') # Append a new colour to the end of the list\n",
    "print(colours)\n",
    "colours.insert(2, 'Purple') #Add Purple in index 2 of list of colours\n",
    "print(colours)\n",
    "colours.remove('Green') # Remove a specific value\n",
    "del colours[0] # Remove a value at specific index\n",
    "print(colours)\n",
    "deleted_colour = colours.pop(1) # Remove value at index 1 and return value\n",
    "print(colours)\n",
    "print(deleted_colour)\n",
    "colours[2] = 'Orange' # Change value in index 2 White -> Orange (mutable)\n",
    "print(colours)"
   ]
  },
  {
   "cell_type": "markdown",
   "metadata": {},
   "source": [
    "## 2.4 Combining lists\n",
    "Two lists can be added together in order to combine them into one list. Lists respond to the \"+\"\n",
    "and \"*\" operators much like strings; they mean concatenation and repetition here too, except\n",
    "that the result is a new list, not a string."
   ]
  },
  {
   "cell_type": "code",
   "execution_count": 7,
   "metadata": {},
   "outputs": [
    {
     "name": "stdout",
     "output_type": "stream",
     "text": [
      "[1, 2, 3, 'Red', 'Green', 'Black']\n",
      "['Red', 'Green', 'Black', 1, 2, 3]\n"
     ]
    }
   ],
   "source": [
    "list1 = [1, 2, 3] # Create list1\n",
    "list2 = ['Red', 'Green', 'Black'] # Create list2\n",
    "final_list = list1 + list2 # Combining list1 and list2 in final_list\n",
    "print(final_list)\n",
    "list2.extend(list1) # Add elements of list1 to end of list2\n",
    "print(list2)"
   ]
  },
  {
   "cell_type": "markdown",
   "metadata": {},
   "source": [
    "Important Notes:\n",
    "1. It is important to protect the data you have in the compound data types. Make sure you are not losing any information when you perform operations or manipulate them. In the example above list1 has been edited and the original list is no longer stored.\n",
    "2. In python all datatypes have built-in functions for their direct instantiation e.g. tuple(), int() etc. These can be used if you want to explicitly define the type in your code."
   ]
  },
  {
   "cell_type": "markdown",
   "metadata": {},
   "source": [
    "# <font color='Blue'>Exercises set 1: </font> "
   ]
  },
  {
   "cell_type": "markdown",
   "metadata": {},
   "source": [
    "__EX 1.1.__ Predict what the following lines of Python will do. Then, run object_reference to see if they match what you expect:\n",
    "\n",
    "Why does this happen? Talk with your neighbour.\n"
   ]
  },
  {
   "cell_type": "code",
   "execution_count": 8,
   "metadata": {},
   "outputs": [
    {
     "name": "stdout",
     "output_type": "stream",
     "text": [
      "[0, 0, 0]\n",
      "[1, 0, 0]\n",
      "['', '', '']\n",
      "['a', '', '']\n",
      "[[], [], []]\n",
      "[[1], [1], [1]]\n"
     ]
    }
   ],
   "source": [
    "s = [0] * 3\n",
    "print(s)\n",
    "s[0] += 1\n",
    "print(s) # [1,0,0]\n",
    "\n",
    "s = [''] * 3\n",
    "print(s)\n",
    "s[0] += 'a'\n",
    "print(s) #['a','','']\n",
    "\n",
    "s = [[]] * 3\n",
    "print(s)\n",
    "s[0] += [1] #[[1],[],[]]\n",
    "print(s)"
   ]
  },
  {
   "cell_type": "markdown",
   "metadata": {},
   "source": [
    "__EX 1.2.__ Given the following lists:"
   ]
  },
  {
   "cell_type": "code",
   "execution_count": 23,
   "metadata": {},
   "outputs": [],
   "source": [
    "device1 = ['Macbook Pro', 2479]\n",
    "device2 = ['Dell XPS', 1899]\n",
    "device3 = ['Asus Notebook', 1599]"
   ]
  },
  {
   "cell_type": "markdown",
   "metadata": {},
   "source": [
    "- Add colour to each of the devices.\n",
    "- The Asus has been renamed Asus Zenbook, change its name.\n",
    "- Form a list containing all the devices. \n",
    "\n",
    "__Expected output:__\n",
    "[[’Macbook Pro’, 2479, ’White’], [’Dell XPS’, 1899, ’Silver’], [’Asus Zenbook’, 1599, ’Red’]]"
   ]
  },
  {
   "cell_type": "code",
   "execution_count": 24,
   "metadata": {},
   "outputs": [],
   "source": [
    "#sol\n",
    "#1\n",
    "device1.append('White')\n",
    "device2 += ['Silver']\n",
    "device3.extend(['Red'])"
   ]
  },
  {
   "cell_type": "code",
   "execution_count": 25,
   "metadata": {},
   "outputs": [],
   "source": [
    "#2\n",
    "device3[0] = 'Asus Zenbook'"
   ]
  },
  {
   "cell_type": "code",
   "execution_count": 26,
   "metadata": {},
   "outputs": [
    {
     "data": {
      "text/plain": [
       "[['Macbook Pro', 2479, 'White'],\n",
       " ['Dell XPS', 1899, 'Silver'],\n",
       " ['Asus Zenbook', 1599, 'Red']]"
      ]
     },
     "execution_count": 26,
     "metadata": {},
     "output_type": "execute_result"
    }
   ],
   "source": [
    "#3\n",
    "[device1,device2,device3]"
   ]
  },
  {
   "cell_type": "markdown",
   "metadata": {},
   "source": [
    "__EX 1.3.__ Manipulate the following lists to obtain a list of all possible concatenated two word strings.\n",
    "\n",
    "__Expected output:__ [’Hello World’, ’Hello Python’, ’Bye World’, ’Bye Python’]"
   ]
  },
  {
   "cell_type": "code",
   "execution_count": 30,
   "metadata": {},
   "outputs": [],
   "source": [
    "list1 = [\"Hello\", \"Bye\"]\n",
    "list2 = [\"World\", \"Python\"]"
   ]
  },
  {
   "cell_type": "code",
   "execution_count": 31,
   "metadata": {},
   "outputs": [
    {
     "name": "stdout",
     "output_type": "stream",
     "text": [
      "[['Hello World'], ['Hello Python'], ['Bye World'], ['Bye Python']]\n"
     ]
    }
   ],
   "source": [
    "mergeList=[[a+' '+b] for a in list1 for b in list2]\n",
    "## Write your answer here\n",
    "print(mergeList)"
   ]
  },
  {
   "cell_type": "markdown",
   "metadata": {},
   "source": [
    "__EX 1.4.__ Remove every occurrence of the elements of value 99 from the following list using list modifiers:\n",
    "\n",
    "__Note:__ remove method removed only the first instance of value. "
   ]
  },
  {
   "cell_type": "code",
   "execution_count": 32,
   "metadata": {},
   "outputs": [],
   "source": [
    "numbers = [12, 24, 22, 66, 99, 45, 99, 57, 89, 99, 20, 99]"
   ]
  },
  {
   "cell_type": "markdown",
   "metadata": {},
   "source": [
    "__Expected output:__ [12, 24, 22, 66, 45, 57, 89, 20]"
   ]
  },
  {
   "cell_type": "code",
   "execution_count": 33,
   "metadata": {},
   "outputs": [
    {
     "data": {
      "text/plain": [
       "[12, 24, 22, 66, 45, 57, 89, 20]"
      ]
     },
     "execution_count": 33,
     "metadata": {},
     "output_type": "execute_result"
    }
   ],
   "source": [
    "# consider mutation side effect when solving this question\n",
    "while 99 in numbers:\n",
    "    numbers.remove(99)\n",
    "numbers"
   ]
  },
  {
   "cell_type": "code",
   "execution_count": 35,
   "metadata": {},
   "outputs": [
    {
     "data": {
      "text/plain": [
       "[12, 24, 22, 66, 45, 57, 89, 20]"
      ]
     },
     "execution_count": 35,
     "metadata": {},
     "output_type": "execute_result"
    }
   ],
   "source": [
    "# Another solution: Can you use list comprehension for this?\n",
    "[n for n in numbers if n != 99]"
   ]
  },
  {
   "cell_type": "markdown",
   "metadata": {},
   "source": [
    "------"
   ]
  },
  {
   "cell_type": "markdown",
   "metadata": {},
   "source": [
    "# 3. Dictionaries\n",
    "Dictionaries are mapping type objects which map a hashable value to arbitrary objects. In other\n",
    "words, dictionaries are a set of key:value pairs where keys are unique. Dictionaries are mutable.\n",
    "Unlike sequence types (list and tuples), which are indexed by a range of numbers, dictionaries\n",
    "are indexed by keys, which can be any immutable types such as strings and numbers."
   ]
  },
  {
   "cell_type": "markdown",
   "metadata": {},
   "source": [
    "## 3.1 Creating Dictionaries\n",
    "There are a few ways we can create a dictionary such as:"
   ]
  },
  {
   "cell_type": "code",
   "execution_count": 36,
   "metadata": {},
   "outputs": [],
   "source": [
    "my_dict = {} # Using a pair of braces to create an empty dictionary\n",
    "team_city1 = {'Liverpool_FC': 'Liverpool', 'Tottenham_FC':'London','Everton_FC':'Liverpool' } # Using key:value pair\n",
    "team_city2 = dict(Liverpool_FC='Liverpool FC', Tottenham_FC='London',Everton_FC='Liverpool') # Using dict constructor (we use key=value)\n",
    "team_city3 = dict([('Liverpool_FC','Liverpool'),('Tottenham_FC','London'), ('Everton_FC','Liverpool')]) # Using dict constructor and list of (key,value) pairs"
   ]
  },
  {
   "cell_type": "markdown",
   "metadata": {},
   "source": [
    "In dictionaries we store Key:Value pairs. The key is a unique identifier that can be used to\n",
    "access the value. The value can be any variable type (even another dictionary). As you can see\n",
    "in the instantiations above, the construction of a dictionary can be carried out in a number of\n",
    "ways."
   ]
  },
  {
   "cell_type": "markdown",
   "metadata": {},
   "source": [
    "## 3.2 Access and Mutating Dictionaries\n",
    "If we want to access the value in a dictionary, we can use any of the following ways:"
   ]
  },
  {
   "cell_type": "code",
   "execution_count": 37,
   "metadata": {},
   "outputs": [
    {
     "data": {
      "text/plain": [
       "'Liverpool'"
      ]
     },
     "execution_count": 37,
     "metadata": {},
     "output_type": "execute_result"
    }
   ],
   "source": [
    "team_city1['Liverpool_FC'] # Pass the key inside []"
   ]
  },
  {
   "cell_type": "code",
   "execution_count": 38,
   "metadata": {},
   "outputs": [
    {
     "name": "stdout",
     "output_type": "stream",
     "text": [
      "{'Liverpool_FC': 'Birmingham', 'Tottenham_FC': 'London', 'Everton_FC': 'Liverpool'}\n"
     ]
    }
   ],
   "source": [
    "team_city1['Liverpool_FC'] = 'Birmingham' # Set new value for the key ,!Liverpool_FC\n",
    "print(team_city1)"
   ]
  },
  {
   "cell_type": "code",
   "execution_count": 39,
   "metadata": {},
   "outputs": [
    {
     "name": "stdout",
     "output_type": "stream",
     "text": [
      "['Liverpool_FC', 'Tottenham_FC', 'Everton_FC']\n",
      "dict_keys(['Liverpool_FC', 'Tottenham_FC', 'Everton_FC'])\n"
     ]
    }
   ],
   "source": [
    "team_city1 = {'Liverpool_FC': 'Liverpool', 'Tottenham_FC':'London','Everton_FC':'Liverpool' }\n",
    "print(list(team_city1)) # Return the list of keys using list()\n",
    "print(team_city1.keys()) # Return the keys using .keys()"
   ]
  },
  {
   "cell_type": "code",
   "execution_count": 40,
   "metadata": {},
   "outputs": [
    {
     "name": "stdout",
     "output_type": "stream",
     "text": [
      "Team: Liverpool_FC  , City: Liverpool\n",
      "Team: Tottenham_FC  , City: London\n",
      "Team: Everton_FC  , City: Liverpool\n"
     ]
    }
   ],
   "source": [
    "for key, value in team_city1.items():\n",
    "    print('Team:', key, ' , City:', value)\n",
    "    # print('Team:{} , City:{}'.format(key, value)) # Alternative way to print using format"
   ]
  },
  {
   "cell_type": "markdown",
   "metadata": {},
   "source": [
    "In order to delete an entry from a dictionary, we can use the del keyword."
   ]
  },
  {
   "cell_type": "code",
   "execution_count": 41,
   "metadata": {},
   "outputs": [
    {
     "name": "stdout",
     "output_type": "stream",
     "text": [
      "{'Tottenham_FC': 'London', 'Everton_FC': 'Liverpool'}\n"
     ]
    }
   ],
   "source": [
    "del team_city1['Liverpool_FC'] # Delete the object with key Liverpool_FC\n",
    "print(team_city1)"
   ]
  },
  {
   "cell_type": "markdown",
   "metadata": {},
   "source": [
    "To remove all the elements from a dictionary, we can use the clear() method."
   ]
  },
  {
   "cell_type": "code",
   "execution_count": 42,
   "metadata": {},
   "outputs": [
    {
     "name": "stdout",
     "output_type": "stream",
     "text": [
      "{}\n"
     ]
    }
   ],
   "source": [
    "team_city1.clear() # Remove all the elements from the dictionary\n",
    "print(team_city1)"
   ]
  },
  {
   "cell_type": "markdown",
   "metadata": {},
   "source": [
    "To add an entry to a dictionary, we can use the update() method or add it directly:"
   ]
  },
  {
   "cell_type": "code",
   "execution_count": 43,
   "metadata": {},
   "outputs": [
    {
     "name": "stdout",
     "output_type": "stream",
     "text": [
      "{'Tottenham_FC': 'London', 'Everton_FC': 'Liverpool'}\n",
      "{'Tottenham_FC': 'London', 'Everton_FC': 'Liverpool', 'Liverpool_FC': 'Liverpool'}\n"
     ]
    }
   ],
   "source": [
    "team_city1 = {'Tottenham_FC':'London' }\n",
    "team_city1.update({'Everton_FC':'Liverpool'})\n",
    "print(team_city1)\n",
    "team_city1['Liverpool_FC'] = 'Liverpool'\n",
    "print(team_city1)"
   ]
  },
  {
   "cell_type": "markdown",
   "metadata": {},
   "source": [
    "What if we want to update the key for a value? We can use pop() method to do it. pop()\n",
    "removes a key from dicntionary (if it exists) and returns its value. Let’s use it to update a key\n",
    "for a value."
   ]
  },
  {
   "cell_type": "code",
   "execution_count": 44,
   "metadata": {},
   "outputs": [
    {
     "name": "stdout",
     "output_type": "stream",
     "text": [
      "{'one': 'un', 'two': 'deux', 'three': 'trois'}\n"
     ]
    }
   ],
   "source": [
    "fr_eng = {'one': 'un', 'two': 'deux', 'four': 'trois'}\n",
    "fr_eng['three'] = fr_eng.pop('four')\n",
    "print(fr_eng)"
   ]
  },
  {
   "cell_type": "markdown",
   "metadata": {},
   "source": [
    "## 3.4 Nested dictionaries: \n",
    "Let’s consider the following dictionaries for each car manufacturer:"
   ]
  },
  {
   "cell_type": "code",
   "execution_count": 45,
   "metadata": {},
   "outputs": [],
   "source": [
    "Toyota = {'name':'Toyota', 'Rank': 1, 'Vehicles': 10466051}\n",
    "Volkswagen = {'name':'Volkswagen', 'Rank': 2, 'Vehicles': 10382334}\n",
    "Hyundai = {'name':'Hyundai', 'Rank': 3, 'Vehicles': 7218391}"
   ]
  },
  {
   "cell_type": "code",
   "execution_count": 46,
   "metadata": {},
   "outputs": [
    {
     "name": "stdout",
     "output_type": "stream",
     "text": [
      "[{'name': 'Toyota', 'Rank': 1, 'Vehicles': 10466051}, {'name': 'Volkswagen', 'Rank': 2, 'Vehicles': 10382334}, {'name': 'Hyundai', 'Rank': 3, 'Vehicles': 7218391}]\n"
     ]
    }
   ],
   "source": [
    "cars_list = [Toyota, Volkswagen, Hyundai]\n",
    "print (cars_list)"
   ]
  },
  {
   "cell_type": "markdown",
   "metadata": {},
   "source": [
    "To nest dictionaries we can use the same key:value pair style as with a normal dictionary,\n",
    "just in this case we are using a dictionary for the value."
   ]
  },
  {
   "cell_type": "code",
   "execution_count": 47,
   "metadata": {},
   "outputs": [
    {
     "name": "stdout",
     "output_type": "stream",
     "text": [
      "{'Toyota': {'name': 'Toyota', 'Rank': 1, 'Vehicles': 10466051}, 'Volkswagen': {'name': 'Volkswagen', 'Rank': 2, 'Vehicles': 10382334}, 'Hyundai': {'name': 'Hyundai', 'Rank': 3, 'Vehicles': 7218391}}\n"
     ]
    }
   ],
   "source": [
    "cars_dict = {'Toyota': Toyota, 'Volkswagen': Volkswagen, 'Hyundai': Hyundai}\n",
    "print(cars_dict)"
   ]
  },
  {
   "cell_type": "markdown",
   "metadata": {},
   "source": [
    "## 3.5 Merging Dictionaries\n",
    "We can merge dictionaries into a single dictionary using ** operator."
   ]
  },
  {
   "cell_type": "code",
   "execution_count": 48,
   "metadata": {},
   "outputs": [
    {
     "name": "stdout",
     "output_type": "stream",
     "text": [
      "{'name': 'Toyota', 'Rank': 1, 'Vehicles': 10466051, 'fname': 'kevin', 'lname': 'nejad', 'City': 'Bristol'}\n"
     ]
    }
   ],
   "source": [
    "car = {'name':'Toyota', 'Rank': 1, 'Vehicles': 10466051}\n",
    "customer = {'fname':'kevin', 'lname': 'nejad', 'City': 'Bristol'}\n",
    "sale = {**car, **customer}\n",
    "print(sale)"
   ]
  },
  {
   "cell_type": "markdown",
   "metadata": {},
   "source": [
    "What if dictionaries have common keys? Let’s look at an example where dictionaries have keys in common."
   ]
  },
  {
   "cell_type": "code",
   "execution_count": 49,
   "metadata": {},
   "outputs": [
    {
     "name": "stdout",
     "output_type": "stream",
     "text": [
      "{'fname': 'Kevin', 'membership': 'premium', 'location': 'London', 'capacity': 500}\n",
      "{'location': 'Bristol', 'capacity': 500, 'fname': 'Kevin', 'membership': 'premium'}\n"
     ]
    }
   ],
   "source": [
    "member = {'fname': 'Kevin', 'membership': 'premium','location':'Bristol'}\n",
    "gym = {'location': 'London', 'capacity': 500}\n",
    "gym_member = {**member, **gym}\n",
    "print(gym_member)\n",
    "gym_member = {**gym, **member}\n",
    "print(gym_member)"
   ]
  },
  {
   "cell_type": "markdown",
   "metadata": {},
   "source": [
    "We can see that in the cases where dictionaries have common keys, the value of the key in\n",
    "the right-most dictionary is selected."
   ]
  },
  {
   "cell_type": "markdown",
   "metadata": {},
   "source": [
    "# <font color= 'blue'>Exercises set 2:</font>\n",
    "__EX 2.1.__ Get the key of a minimum value from the following dictionary\n",
    "use min function, you can look it up here https://docs.python.org/3/library/functions.html#min"
   ]
  },
  {
   "cell_type": "code",
   "execution_count": 50,
   "metadata": {},
   "outputs": [],
   "source": [
    "sampleDict = {\n",
    "  'Physics': 82,\n",
    "  'Math': 65,\n",
    "  'history': 75\n",
    "}\n",
    "#Expected output: Math"
   ]
  },
  {
   "cell_type": "code",
   "execution_count": 60,
   "metadata": {},
   "outputs": [
    {
     "data": {
      "text/plain": [
       "'Math'"
      ]
     },
     "execution_count": 60,
     "metadata": {},
     "output_type": "execute_result"
    }
   ],
   "source": [
    "#Sol\n",
    "min(sampleDict)"
   ]
  },
  {
   "cell_type": "markdown",
   "metadata": {},
   "source": [
    "__EX 2.2.__ Iterate a given list and check if a given element exists as a key’s value in a dictionary. If not, delete it from the list"
   ]
  },
  {
   "cell_type": "code",
   "execution_count": 67,
   "metadata": {},
   "outputs": [],
   "source": [
    "roll_number = [47, 64, 69, 37, 76, 83, 95, 97]\n",
    "sample_dict = {'Jhon':47, 'Emma':69, 'Kelly':76, 'Jason':97}\n",
    "#Output after removing unwanted elements from list [47, 69, 76, 97]\n"
   ]
  },
  {
   "cell_type": "code",
   "execution_count": 69,
   "metadata": {},
   "outputs": [
    {
     "name": "stdout",
     "output_type": "stream",
     "text": [
      "[47, 69, 76, 97]\n"
     ]
    },
    {
     "data": {
      "text/plain": [
       "[47, 69, 76, 97]"
      ]
     },
     "execution_count": 69,
     "metadata": {},
     "output_type": "execute_result"
    }
   ],
   "source": [
    "# Sol: note to avoid mutation side effect\n",
    "dic_nums = [sample_dict[key] for key in list(sample_dict)]\n",
    "print(dic_nums)\n",
    "for i,num in enumerate(roll_number):\n",
    "    if num not in dic_nums:\n",
    "        roll_number.remove(num)\n",
    "        \n",
    "roll_number"
   ]
  },
  {
   "cell_type": "markdown",
   "metadata": {},
   "source": [
    "__EX 2.3.__ Write a script that takes a list of dictionaries and returns the sum of people's budgets."
   ]
  },
  {
   "cell_type": "code",
   "execution_count": 71,
   "metadata": {},
   "outputs": [],
   "source": [
    "d1=  { \"name\": \"John\", \"age\": 21, \"budget\": 23000 }\n",
    "d2=   { \"name\": \"Steve\",  \"age\": 32, \"budget\": 40000 }\n",
    "d3=   { \"name\": \"Martin\",  \"age\": 16, \"budget\": 2700 }\n",
    "# Expected output: 65700"
   ]
  },
  {
   "cell_type": "code",
   "execution_count": 72,
   "metadata": {},
   "outputs": [
    {
     "name": "stdout",
     "output_type": "stream",
     "text": [
      "65700\n"
     ]
    }
   ],
   "source": [
    "#Sol\n",
    "sumBudget=0\n",
    "d= [d1, d2, d3]\n",
    "sumBudget = sum([d_['budget'] for d_ in d])\n",
    "#Complete your answer here\n",
    "print (sumBudget)"
   ]
  },
  {
   "cell_type": "markdown",
   "metadata": {},
   "source": [
    "-------"
   ]
  },
  {
   "cell_type": "markdown",
   "metadata": {},
   "source": [
    "# 4. Sets\n",
    "Set objects are unordered collection of hashable unique/distinct items. Sets have very useful\n",
    "applications such as: membership testing, eliminating duplicates from a sequence, and computing\n",
    "mathematical operations on sets such as intersection, union, difference, and symmetric\n",
    "difference. Unlike list and tuples, set doesn’t support indexing, slicing. This is because sets are\n",
    "unordered and do not record element position in order of insertation.\n",
    "\n",
    "## 4.1 Creating Sets\n",
    "To construct a set, we can use can use the following ways:"
   ]
  },
  {
   "cell_type": "code",
   "execution_count": 73,
   "metadata": {},
   "outputs": [
    {
     "name": "stdout",
     "output_type": "stream",
     "text": [
      "{1, 2, 3, 4, 5, 6, 7, 8, 9}\n",
      "{'f', 'e', 's', 'l', 'k', 'd', 'w', 'a', 'b', 'o', 'j'}\n"
     ]
    }
   ],
   "source": [
    "empty_set = set() # Create an empty set using set constructor\n",
    "color_set = {'blue', 'yellow', 'red'}\n",
    "set_from_list = set([1,1,2,3,4,4,4,4,4,5,6,7,8,9]) # Construct a set from list. This removed the duplicated\n",
    "print(set_from_list)\n",
    "set_from_string = set('abbddskkjjwooejjflla') # construct a list of unique letter in the string\n",
    "print(set_from_string)"
   ]
  },
  {
   "cell_type": "markdown",
   "metadata": {},
   "source": [
    "Note: The use of empty curly brackets will create a dictionary not a set!"
   ]
  },
  {
   "cell_type": "markdown",
   "metadata": {},
   "source": [
    "## 4.2 Set operations: "
   ]
  },
  {
   "cell_type": "code",
   "execution_count": 74,
   "metadata": {},
   "outputs": [
    {
     "data": {
      "text/plain": [
       "{'yellow'}"
      ]
     },
     "execution_count": 74,
     "metadata": {},
     "output_type": "execute_result"
    }
   ],
   "source": [
    "palette1 = {'blue', 'yellow', 'purple', 'white'}\n",
    "palette2 = {'yellow', 'orange', 'red', 'black'}\n",
    "# Difference between two pallette\n",
    "palette1 - palette2 # returns colors palette1 but not in palette2\n",
    "# Symmetric difference between two pallette\n",
    "palette1 ^ palette2 # returns colors palette1 and palette2 but not both\n",
    "# union of two pallette\n",
    "palette1 | palette2 # return the colors which are in both palettes\n",
    "# intersection of two pallette\n",
    "palette1 & palette2 # return the colors which are in both palettes"
   ]
  },
  {
   "cell_type": "markdown",
   "metadata": {},
   "source": [
    "# 5. Useful Sequence Operations\n"
   ]
  },
  {
   "cell_type": "markdown",
   "metadata": {},
   "source": [
    "## 5.1 Unpacking\n",
    "Iterable datatypes can be unpacked into separate variables (or other datatypes). Care must be\n",
    "taken for the number of variables in the list to equal the number of variables to unpack to. This\n",
    "can be seen in lists or tuples (seen below):"
   ]
  },
  {
   "cell_type": "code",
   "execution_count": 75,
   "metadata": {},
   "outputs": [
    {
     "name": "stdout",
     "output_type": "stream",
     "text": [
      "apple , banana , pear , grape , pineapple\n",
      "<class 'str'>\n"
     ]
    }
   ],
   "source": [
    "fruit = 'apple', 'banana', 'pear', 'grape', 'pineapple' # create tuple of fruits\n",
    "a, b, c, d, e = fruit # Unpack tuple into separate variables\n",
    "print(a,',',b,',',c,',',d,',',e) # show the separated variables\n",
    "print(type(a)) # print the type of the variables."
   ]
  },
  {
   "cell_type": "markdown",
   "metadata": {},
   "source": [
    "## 5.2 Zipping\n",
    "Zip is a function which returns a zip object. Zip function returns an iterator of tuples such that\n",
    "the i-th tuple contains the i-th item from each of sequences which are zipped together."
   ]
  },
  {
   "cell_type": "code",
   "execution_count": 76,
   "metadata": {},
   "outputs": [
    {
     "name": "stdout",
     "output_type": "stream",
     "text": [
      "[('a', 1), ('b', 2), ('c', 3)]\n"
     ]
    }
   ],
   "source": [
    "list1 = ['a', 'b', 'c']\n",
    "list2 = [1, 2, 3]\n",
    "zipped = zip(list1, list2)\n",
    "print(list(zipped))"
   ]
  },
  {
   "cell_type": "markdown",
   "metadata": {},
   "source": [
    "Note: Iterables are objects capable of returning their members one at a time. This includes all sequence\n",
    "types (lists, strings, tuples) and some non-sequence types (dictionary). However, as sets aren’t ordered,\n",
    "this would be ill advised as the elements are paired randomly!"
   ]
  },
  {
   "cell_type": "markdown",
   "metadata": {},
   "source": [
    "## 5.3 Enumerate\n",
    "Enumerate is a built-in function that allows you to get the index of an element in a sequence while\n",
    "we are looping through it. You can think of enumerate as a for loop with a counter."
   ]
  },
  {
   "cell_type": "code",
   "execution_count": 77,
   "metadata": {},
   "outputs": [
    {
     "name": "stdout",
     "output_type": "stream",
     "text": [
      "Index in the list: 0 , Color: blue\n",
      "Index in the list: 1 , Color: black\n",
      "Index in the list: 2 , Color: yellow\n",
      "Index in the list: 3 , Color: red\n",
      "Index in the list: 4 , Color: white\n"
     ]
    }
   ],
   "source": [
    "colors = ['blue', 'black','yellow', 'red', 'white']\n",
    "for index, color in enumerate(colors):\n",
    "    print('Index in the list:', index, ', Color:', color)"
   ]
  },
  {
   "cell_type": "markdown",
   "metadata": {},
   "source": [
    "# <font color='Blue'> Exercises set 3:</font>\n",
    "__EX 3.1.__ Find the values which are common in both lists below:\n",
    "\n",
    "__Expected output:__ {5, 7, 9}"
   ]
  },
  {
   "cell_type": "code",
   "execution_count": 85,
   "metadata": {},
   "outputs": [],
   "source": [
    "list1 = [1,2,3,4,5,5,5,6,7,8,9]\n",
    "list2 = [9,10,11,11,5,7,12,13,14]"
   ]
  },
  {
   "cell_type": "code",
   "execution_count": 88,
   "metadata": {},
   "outputs": [
    {
     "data": {
      "text/plain": [
       "{5, 7, 9}"
      ]
     },
     "execution_count": 88,
     "metadata": {},
     "output_type": "execute_result"
    }
   ],
   "source": [
    "#Sol\n",
    "set(list1) & set(list2)"
   ]
  },
  {
   "cell_type": "markdown",
   "metadata": {},
   "source": [
    "__EX 3.2.__ Find the values which are in list1 but not in list2\n",
    "__Expected output:__ {1, 2, 3, 4, 6, 8}"
   ]
  },
  {
   "cell_type": "code",
   "execution_count": null,
   "metadata": {},
   "outputs": [],
   "source": [
    "list1 = [1,2,3,4,5,5,5,6,7,8,9]\n",
    "list2 = [9,10,11,11,5,7,12,13,14]"
   ]
  },
  {
   "cell_type": "code",
   "execution_count": 89,
   "metadata": {},
   "outputs": [
    {
     "data": {
      "text/plain": [
       "{1, 2, 3, 4, 6, 8}"
      ]
     },
     "execution_count": 89,
     "metadata": {},
     "output_type": "execute_result"
    }
   ],
   "source": [
    "#Sol\n",
    "set(list1) - set(list2)"
   ]
  },
  {
   "cell_type": "markdown",
   "metadata": {},
   "source": [
    "__EX 3.3.__ Find whether the following string contains unique characters. Return True is string has no repeated character, and False otherwise\n",
    "\n",
    "__Expected output:__ False for str1 True for str2 True for str3"
   ]
  },
  {
   "cell_type": "code",
   "execution_count": 94,
   "metadata": {},
   "outputs": [],
   "source": [
    "str1 = 'hello'\n",
    "str2 = 'abcd'\n",
    "str3 = 'software'"
   ]
  },
  {
   "cell_type": "code",
   "execution_count": 96,
   "metadata": {},
   "outputs": [
    {
     "name": "stdout",
     "output_type": "stream",
     "text": [
      "False\n",
      "True\n",
      "True\n"
     ]
    }
   ],
   "source": [
    "print(len(str1) == len(set(str1)))\n",
    "print(len(str2) == len(set(str2)))\n",
    "print(len(str3) == len(set(str3)))"
   ]
  },
  {
   "cell_type": "markdown",
   "metadata": {},
   "source": [
    "__EX 3.4.__ Below is some simple data about characters from BoJack Horseman:\n",
    "The data contains the character name, the voice actor or actress who plays them, and the species of the character.\n",
    "\n",
    "Write a for loop that uses destructuring so that you can print each tuple in the following format:\n",
    "\n",
    "BoJack Horseman is a horse voiced by Will Arnet. (note lower and upper cases)\n",
    "\n"
   ]
  },
  {
   "cell_type": "code",
   "execution_count": 98,
   "metadata": {},
   "outputs": [],
   "source": [
    "main_characters = [\n",
    "    (\"BoJack Horseman\", \"Will Arnett\", \"Horse\"),\n",
    "    (\"Princess Carolyn\", \"Amy Sedaris\", \"Cat\"),\n",
    "    (\"Diane Nguyen\", \"Alison Brie\", \"Human\"),\n",
    "    (\"Mr. Peanutbutter\", \"Paul F. Tompkins\", \"Dog\"),\n",
    "    (\"Todd Chavez\", \"Aaron Paul\", \"Human\")\n",
    "]"
   ]
  },
  {
   "cell_type": "code",
   "execution_count": 99,
   "metadata": {},
   "outputs": [
    {
     "name": "stdout",
     "output_type": "stream",
     "text": [
      "BoJack Horseman is a Horse voiced by Will Arnett\n",
      "Princess Carolyn is a Cat voiced by Amy Sedaris\n",
      "Diane Nguyen is a Human voiced by Alison Brie\n",
      "Mr. Peanutbutter is a Dog voiced by Paul F. Tompkins\n",
      "Todd Chavez is a Human voiced by Aaron Paul\n"
     ]
    }
   ],
   "source": [
    "#Sol\n",
    "for row in main_characters:\n",
    "    print(f\"{row[0]} is a {row[2]} voiced by {row[1]}\")"
   ]
  },
  {
   "cell_type": "markdown",
   "metadata": {},
   "source": [
    "__EX 3.5.__ Unpack the following tuple into 4 variables:\n",
    "\n",
    "The data represents a student's name, their student id number, and their major and minor disciplines in that order.\n"
   ]
  },
  {
   "cell_type": "code",
   "execution_count": 102,
   "metadata": {},
   "outputs": [],
   "source": [
    "studentData= (\"John Smith\", 11743, (\"Computer Science\", \"Mathematics\"))"
   ]
  },
  {
   "cell_type": "code",
   "execution_count": 103,
   "metadata": {},
   "outputs": [
    {
     "name": "stdout",
     "output_type": "stream",
     "text": [
      "John Smith 11743 Computer Science Mathematics\n"
     ]
    }
   ],
   "source": [
    "#Sol\n",
    "a,b,(c,d) = studentData\n",
    "print(a,b,c,d)"
   ]
  },
  {
   "cell_type": "markdown",
   "metadata": {},
   "source": [
    "__EX 3.6.__ Investigate what happens when you try to zip two iterables of different lengths. For example, try to zip a list containing three items, and a tuples containing four items. What if the length of our sequence is unequal? Discuss with your neighbour"
   ]
  },
  {
   "cell_type": "code",
   "execution_count": 106,
   "metadata": {},
   "outputs": [
    {
     "data": {
      "text/plain": [
       "[('a', 1), ('b', 2), ('c', 3)]"
      ]
     },
     "execution_count": 106,
     "metadata": {},
     "output_type": "execute_result"
    }
   ],
   "source": [
    "list1 = ['a', 'b', 'c', 'd', 'e', 'f']\n",
    "list2 = [1, 2, 3]\n",
    "\n",
    "list(zip(list1,list2))"
   ]
  },
  {
   "cell_type": "markdown",
   "metadata": {},
   "source": [
    "# <font color='Blue'> Bonus challenging problems </font>\n",
    "Don't worry about doing these bonus problems. In most cases, challenge questions ask you to think more critically or use more advanced algorithms.\n",
    "\n"
   ]
  },
  {
   "cell_type": "markdown",
   "metadata": {},
   "source": [
    "__Ch #1.__ Flipping Dictionaries\n",
    "I asked our course staff what their favorite animal is and they gave me these answers:\n",
    "\n"
   ]
  },
  {
   "cell_type": "code",
   "execution_count": 107,
   "metadata": {},
   "outputs": [],
   "source": [
    "fav_animals = {\n",
    "    'Kevin': 'horse',\n",
    "    'Fanqi': 'Alpaca',\n",
    "    'Jack': 'dog',\n",
    "    'Ayush': 'dog',\n",
    "    'Zahraa': 'Alpaca',\n",
    "    'Ioana': 'cat',\n",
    "    'Edgardo': 'cat'\n",
    "}"
   ]
  },
  {
   "cell_type": "markdown",
   "metadata": {},
   "source": [
    "In this problem, we'll reverse the fav_animals dictionary to create a new dictionary which associates animals to a list of people for whom that animal is their favorite.\n",
    "More precisely, write a function that properly reverses the keys and values of a dictionary - each key (originally a value) should map to a collection of values (originally keys) that mapped to it.\n",
    "\n",
    "\n",
    "For example,\n",
    "=> {\"Alpaca\": [\"Zahraa\", \"Fanqi\"], \"horse\": [\"Kevin\"], \"dog\":[\"Jack\", \"Ayush\"], \"cat\":[Ioana, Edgardo]}\n",
    "\n",
    "Another example: "
   ]
  },
  {
   "cell_type": "code",
   "execution_count": 108,
   "metadata": {},
   "outputs": [],
   "source": [
    "flip_dict={\"CA\": \"US\", \"NY\": \"US\", \"ON\": \"CA\"}\n",
    "# => {\"US\": [\"CA\", \"NY\"], \"CA\": [\"ON\"]}"
   ]
  },
  {
   "cell_type": "markdown",
   "metadata": {},
   "source": [
    "Note: there is a data structure in the collections module from the standard library called defaultdict which provides exactly this sort of functionality. However, in this question try to solve it using loops instead of calling defaultdict. \n"
   ]
  },
  {
   "cell_type": "code",
   "execution_count": 109,
   "metadata": {},
   "outputs": [
    {
     "data": {
      "text/plain": [
       "{'horse': ['Kevin'],\n",
       " 'Alpaca': ['Fanqi', 'Zahraa'],\n",
       " 'dog': ['Jack', 'Ayush'],\n",
       " 'cat': ['Ioana', 'Edgardo']}"
      ]
     },
     "execution_count": 109,
     "metadata": {},
     "output_type": "execute_result"
    }
   ],
   "source": [
    "#Sol\n",
    "new_dict = {}\n",
    "for key in fav_animals:\n",
    "    if fav_animals[key] not in list(new_dict):\n",
    "        new_dict[fav_animals[key]] = [key]\n",
    "    else:\n",
    "        new_dict[fav_animals[key]].append(key)\n",
    "        \n",
    "new_dict"
   ]
  },
  {
   "cell_type": "code",
   "execution_count": null,
   "metadata": {},
   "outputs": [],
   "source": [
    "#Another sol using defaultdict\n",
    "from collections import defaultdict\n"
   ]
  },
  {
   "cell_type": "markdown",
   "metadata": {},
   "source": [
    "__Ch #2.__ Write a Python program to count the occurrences of each word in a given sentence from user input.\n",
    "\n",
    "Example: 'the quick brown fox jumps over the lazy dog.'\n",
    "\n",
    "__Expected output:__ {'the': 2, 'jumps': 1, 'brown': 1, 'lazy': 1, 'fox': 1, 'over': 1, 'quick': 1, 'dog.': 1} \n",
    "\n"
   ]
  },
  {
   "cell_type": "code",
   "execution_count": 113,
   "metadata": {},
   "outputs": [
    {
     "data": {
      "text/plain": [
       "{'the': 2,\n",
       " 'quick': 1,\n",
       " 'brown': 1,\n",
       " 'fox': 1,\n",
       " 'jumps': 1,\n",
       " 'over': 1,\n",
       " 'lazy': 1,\n",
       " 'dog.': 1}"
      ]
     },
     "execution_count": 113,
     "metadata": {},
     "output_type": "execute_result"
    }
   ],
   "source": [
    "#Sol\n",
    "sentence = 'the quick brown fox jumps over the lazy dog.'\n",
    "sentence = sentence.split(' ')\n",
    "out = {}\n",
    "for word in sentence:\n",
    "    if word not in list(out):\n",
    "        out[word] = 1\n",
    "    else:\n",
    "        out[word] += 1\n",
    "        \n",
    "out"
   ]
  },
  {
   "cell_type": "markdown",
   "metadata": {},
   "source": [
    "__Ch #3.__Write a Python program to compute element-wise sum of given tuples.\n",
    "\n",
    "\n",
    "x = (1,2,3,4)\n",
    "y = (3,5,2,1)\n",
    "z = (2,2,3,1)\n",
    "results: (6, 9, 8, 6)"
   ]
  },
  {
   "cell_type": "code",
   "execution_count": 126,
   "metadata": {},
   "outputs": [
    {
     "data": {
      "text/plain": [
       "(6, 9, 8, 6)"
      ]
     },
     "execution_count": 126,
     "metadata": {},
     "output_type": "execute_result"
    }
   ],
   "source": [
    "#Sol \n",
    "x = (1,2,3,4); y = (3,5,2,1); z = (2,2,3,1)\n",
    "\n",
    "tuple([sum(a) for a in list(zip(x,y,z))])"
   ]
  },
  {
   "cell_type": "markdown",
   "metadata": {},
   "source": [
    "## References and resources: \n",
    "- https://docs.python.org/3/tutorial/datastructures.html\n",
    "- https://www.programiz.com/python-programming/set"
   ]
  }
 ],
 "metadata": {
  "kernelspec": {
   "display_name": "Python 3 (ipykernel)",
   "language": "python",
   "name": "python3"
  },
  "language_info": {
   "codemirror_mode": {
    "name": "ipython",
    "version": 3
   },
   "file_extension": ".py",
   "mimetype": "text/x-python",
   "name": "python",
   "nbconvert_exporter": "python",
   "pygments_lexer": "ipython3",
   "version": "3.11.4"
  }
 },
 "nbformat": 4,
 "nbformat_minor": 4
}
